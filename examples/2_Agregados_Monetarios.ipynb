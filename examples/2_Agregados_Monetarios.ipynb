{
 "cells": [
  {
   "cell_type": "markdown",
   "metadata": {
    "colab_type": "text",
    "id": "view-in-github"
   },
   "source": [
    "<a href=\"https://colab.research.google.com/github/UFM-Market-Trends/UFM-Market-Trends-SDK/blob/main/examples/2_Agregados_Monetarios.ipynb\" target=\"_parent\"><img src=\"https://colab.research.google.com/assets/colab-badge.svg\" alt=\"Open In Colab\"/></a>"
   ]
  },
  {
   "cell_type": "code",
   "execution_count": 1,
   "metadata": {
    "colab": {
     "base_uri": "https://localhost:8080/"
    },
    "id": "w3FWLt5-zgHU",
    "outputId": "d41fdc67-b993-4ee7-facd-fc1e816d1db4"
   },
   "outputs": [
    {
     "name": "stdout",
     "output_type": "stream",
     "text": [
      "Collecting pyxlsb\n",
      "  Using cached pyxlsb-1.0.10-py2.py3-none-any.whl (23 kB)\n",
      "Installing collected packages: pyxlsb\n",
      "Successfully installed pyxlsb-1.0.10\n",
      "Collecting fpdf\n",
      "  Using cached fpdf-1.7.2-py2.py3-none-any.whl\n",
      "Installing collected packages: fpdf\n",
      "Successfully installed fpdf-1.7.2\n",
      "Collecting git+https://github.com/UFM-Market-Trends/UFM-Market-Trends-SDK.git\n",
      "  Cloning https://github.com/UFM-Market-Trends/UFM-Market-Trends-SDK.git to /tmp/pip-req-build-47rswdqo\n",
      "  Running command git clone --filter=blob:none --quiet https://github.com/UFM-Market-Trends/UFM-Market-Trends-SDK.git /tmp/pip-req-build-47rswdqo\n",
      "  Resolved https://github.com/UFM-Market-Trends/UFM-Market-Trends-SDK.git to commit 9064e503fcb23b4a44b532364ce5844c318ab5f7\n",
      "  Preparing metadata (setup.py) ... \u001b[?25ldone\n",
      "\u001b[?25hRequirement already satisfied: requests in /opt/conda/lib/python3.7/site-packages (from ufmtrends-sdk==0.1.7) (2.28.1)\n",
      "Requirement already satisfied: charset-normalizer<3,>=2 in /opt/conda/lib/python3.7/site-packages (from requests->ufmtrends-sdk==0.1.7) (2.1.1)\n",
      "Requirement already satisfied: certifi>=2017.4.17 in /opt/conda/lib/python3.7/site-packages (from requests->ufmtrends-sdk==0.1.7) (2022.9.24)\n",
      "Requirement already satisfied: urllib3<1.27,>=1.21.1 in /opt/conda/lib/python3.7/site-packages (from requests->ufmtrends-sdk==0.1.7) (1.26.11)\n",
      "Requirement already satisfied: idna<4,>=2.5 in /opt/conda/lib/python3.7/site-packages (from requests->ufmtrends-sdk==0.1.7) (3.4)\n",
      "Building wheels for collected packages: ufmtrends-sdk\n",
      "  Building wheel for ufmtrends-sdk (setup.py) ... \u001b[?25ldone\n",
      "\u001b[?25h  Created wheel for ufmtrends-sdk: filename=ufmtrends_sdk-0.1.7-py3-none-any.whl size=13195 sha256=e97b14b2411b3a5e0f945debd47b3e00eb4466fbe37be4376aa66b93aad34484\n",
      "  Stored in directory: /tmp/pip-ephem-wheel-cache-403erndc/wheels/d8/63/72/fd94fcb7285b31cd0125721e8d1340b8842b4efc3b6d212027\n",
      "Successfully built ufmtrends-sdk\n",
      "Installing collected packages: ufmtrends-sdk\n",
      "Successfully installed ufmtrends-sdk-0.1.7\n",
      "Collecting xlrd\n",
      "  Using cached xlrd-2.0.1-py2.py3-none-any.whl (96 kB)\n",
      "Installing collected packages: xlrd\n",
      "Successfully installed xlrd-2.0.1\n"
     ]
    }
   ],
   "source": [
    "import numpy as np\n",
    "import matplotlib.pyplot as plt\n",
    "import pandas as pd\n",
    "!pip install pyxlsb\n",
    "!pip install fpdf\n",
    "import datetime\n",
    "!pip install git+https://github.com/UFM-Market-Trends/UFM-Market-Trends-SDK.git\n",
    "import ufmtrends_sdk as trends\n",
    "today = datetime.date.today().strftime(\"%Y-%m-%d\")\n",
    "# !pip install xlrd\n",
    "!pip install --upgrade xlrd"
   ]
  },
  {
   "cell_type": "markdown",
   "metadata": {
    "id": "KlVH2HfkzNqo"
   },
   "source": [
    "# Agregados Monetarios\n",
    "\n",
    "https://www.banguat.gob.gt/page/iii-base-monetaria-y-agregados-monetarios"
   ]
  },
  {
   "cell_type": "markdown",
   "metadata": {
    "id": "LzZOBVRWzUWJ"
   },
   "source": [
    "## Base monetaria\n",
    "\n",
    "Base monetaria restringida y la base monetaria amplia.\n",
    "\n",
    "https://www.banguat.gob.gt/es/page/iii1-base-monetaria"
   ]
  },
  {
   "cell_type": "code",
   "execution_count": 2,
   "metadata": {
    "colab": {
     "base_uri": "https://localhost:8080/",
     "height": 419
    },
    "id": "E9cxrwRbwxAN",
    "outputId": "7c2f65ba-8d52-48e8-a204-5c60f0b32951"
   },
   "outputs": [
    {
     "ename": "URLError",
     "evalue": "<urlopen error [SSL: CERTIFICATE_VERIFY_FAILED] certificate verify failed: unable to get local issuer certificate (_ssl.c:1091)>",
     "output_type": "error",
     "traceback": [
      "\u001b[0;31m---------------------------------------------------------------------------\u001b[0m",
      "\u001b[0;31mSSLCertVerificationError\u001b[0m                  Traceback (most recent call last)",
      "\u001b[0;32m/opt/conda/lib/python3.7/urllib/request.py\u001b[0m in \u001b[0;36mdo_open\u001b[0;34m(self, http_class, req, **http_conn_args)\u001b[0m\n\u001b[1;32m   1349\u001b[0m                 h.request(req.get_method(), req.selector, req.data, headers,\n\u001b[0;32m-> 1350\u001b[0;31m                           encode_chunked=req.has_header('Transfer-encoding'))\n\u001b[0m\u001b[1;32m   1351\u001b[0m             \u001b[0;32mexcept\u001b[0m \u001b[0mOSError\u001b[0m \u001b[0;32mas\u001b[0m \u001b[0merr\u001b[0m\u001b[0;34m:\u001b[0m \u001b[0;31m# timeout error\u001b[0m\u001b[0;34m\u001b[0m\u001b[0;34m\u001b[0m\u001b[0m\n",
      "\u001b[0;32m/opt/conda/lib/python3.7/http/client.py\u001b[0m in \u001b[0;36mrequest\u001b[0;34m(self, method, url, body, headers, encode_chunked)\u001b[0m\n\u001b[1;32m   1280\u001b[0m         \u001b[0;34m\"\"\"Send a complete request to the server.\"\"\"\u001b[0m\u001b[0;34m\u001b[0m\u001b[0;34m\u001b[0m\u001b[0m\n\u001b[0;32m-> 1281\u001b[0;31m         \u001b[0mself\u001b[0m\u001b[0;34m.\u001b[0m\u001b[0m_send_request\u001b[0m\u001b[0;34m(\u001b[0m\u001b[0mmethod\u001b[0m\u001b[0;34m,\u001b[0m \u001b[0murl\u001b[0m\u001b[0;34m,\u001b[0m \u001b[0mbody\u001b[0m\u001b[0;34m,\u001b[0m \u001b[0mheaders\u001b[0m\u001b[0;34m,\u001b[0m \u001b[0mencode_chunked\u001b[0m\u001b[0;34m)\u001b[0m\u001b[0;34m\u001b[0m\u001b[0;34m\u001b[0m\u001b[0m\n\u001b[0m\u001b[1;32m   1282\u001b[0m \u001b[0;34m\u001b[0m\u001b[0m\n",
      "\u001b[0;32m/opt/conda/lib/python3.7/http/client.py\u001b[0m in \u001b[0;36m_send_request\u001b[0;34m(self, method, url, body, headers, encode_chunked)\u001b[0m\n\u001b[1;32m   1326\u001b[0m             \u001b[0mbody\u001b[0m \u001b[0;34m=\u001b[0m \u001b[0m_encode\u001b[0m\u001b[0;34m(\u001b[0m\u001b[0mbody\u001b[0m\u001b[0;34m,\u001b[0m \u001b[0;34m'body'\u001b[0m\u001b[0;34m)\u001b[0m\u001b[0;34m\u001b[0m\u001b[0;34m\u001b[0m\u001b[0m\n\u001b[0;32m-> 1327\u001b[0;31m         \u001b[0mself\u001b[0m\u001b[0;34m.\u001b[0m\u001b[0mendheaders\u001b[0m\u001b[0;34m(\u001b[0m\u001b[0mbody\u001b[0m\u001b[0;34m,\u001b[0m \u001b[0mencode_chunked\u001b[0m\u001b[0;34m=\u001b[0m\u001b[0mencode_chunked\u001b[0m\u001b[0;34m)\u001b[0m\u001b[0;34m\u001b[0m\u001b[0;34m\u001b[0m\u001b[0m\n\u001b[0m\u001b[1;32m   1328\u001b[0m \u001b[0;34m\u001b[0m\u001b[0m\n",
      "\u001b[0;32m/opt/conda/lib/python3.7/http/client.py\u001b[0m in \u001b[0;36mendheaders\u001b[0;34m(self, message_body, encode_chunked)\u001b[0m\n\u001b[1;32m   1275\u001b[0m             \u001b[0;32mraise\u001b[0m \u001b[0mCannotSendHeader\u001b[0m\u001b[0;34m(\u001b[0m\u001b[0;34m)\u001b[0m\u001b[0;34m\u001b[0m\u001b[0;34m\u001b[0m\u001b[0m\n\u001b[0;32m-> 1276\u001b[0;31m         \u001b[0mself\u001b[0m\u001b[0;34m.\u001b[0m\u001b[0m_send_output\u001b[0m\u001b[0;34m(\u001b[0m\u001b[0mmessage_body\u001b[0m\u001b[0;34m,\u001b[0m \u001b[0mencode_chunked\u001b[0m\u001b[0;34m=\u001b[0m\u001b[0mencode_chunked\u001b[0m\u001b[0;34m)\u001b[0m\u001b[0;34m\u001b[0m\u001b[0;34m\u001b[0m\u001b[0m\n\u001b[0m\u001b[1;32m   1277\u001b[0m \u001b[0;34m\u001b[0m\u001b[0m\n",
      "\u001b[0;32m/opt/conda/lib/python3.7/http/client.py\u001b[0m in \u001b[0;36m_send_output\u001b[0;34m(self, message_body, encode_chunked)\u001b[0m\n\u001b[1;32m   1035\u001b[0m         \u001b[0;32mdel\u001b[0m \u001b[0mself\u001b[0m\u001b[0;34m.\u001b[0m\u001b[0m_buffer\u001b[0m\u001b[0;34m[\u001b[0m\u001b[0;34m:\u001b[0m\u001b[0;34m]\u001b[0m\u001b[0;34m\u001b[0m\u001b[0;34m\u001b[0m\u001b[0m\n\u001b[0;32m-> 1036\u001b[0;31m         \u001b[0mself\u001b[0m\u001b[0;34m.\u001b[0m\u001b[0msend\u001b[0m\u001b[0;34m(\u001b[0m\u001b[0mmsg\u001b[0m\u001b[0;34m)\u001b[0m\u001b[0;34m\u001b[0m\u001b[0;34m\u001b[0m\u001b[0m\n\u001b[0m\u001b[1;32m   1037\u001b[0m \u001b[0;34m\u001b[0m\u001b[0m\n",
      "\u001b[0;32m/opt/conda/lib/python3.7/http/client.py\u001b[0m in \u001b[0;36msend\u001b[0;34m(self, data)\u001b[0m\n\u001b[1;32m    975\u001b[0m             \u001b[0;32mif\u001b[0m \u001b[0mself\u001b[0m\u001b[0;34m.\u001b[0m\u001b[0mauto_open\u001b[0m\u001b[0;34m:\u001b[0m\u001b[0;34m\u001b[0m\u001b[0;34m\u001b[0m\u001b[0m\n\u001b[0;32m--> 976\u001b[0;31m                 \u001b[0mself\u001b[0m\u001b[0;34m.\u001b[0m\u001b[0mconnect\u001b[0m\u001b[0;34m(\u001b[0m\u001b[0;34m)\u001b[0m\u001b[0;34m\u001b[0m\u001b[0;34m\u001b[0m\u001b[0m\n\u001b[0m\u001b[1;32m    977\u001b[0m             \u001b[0;32melse\u001b[0m\u001b[0;34m:\u001b[0m\u001b[0;34m\u001b[0m\u001b[0;34m\u001b[0m\u001b[0m\n",
      "\u001b[0;32m/opt/conda/lib/python3.7/http/client.py\u001b[0m in \u001b[0;36mconnect\u001b[0;34m(self)\u001b[0m\n\u001b[1;32m   1450\u001b[0m             self.sock = self._context.wrap_socket(self.sock,\n\u001b[0;32m-> 1451\u001b[0;31m                                                   server_hostname=server_hostname)\n\u001b[0m\u001b[1;32m   1452\u001b[0m \u001b[0;34m\u001b[0m\u001b[0m\n",
      "\u001b[0;32m/opt/conda/lib/python3.7/ssl.py\u001b[0m in \u001b[0;36mwrap_socket\u001b[0;34m(self, sock, server_side, do_handshake_on_connect, suppress_ragged_eofs, server_hostname, session)\u001b[0m\n\u001b[1;32m    422\u001b[0m             \u001b[0mcontext\u001b[0m\u001b[0;34m=\u001b[0m\u001b[0mself\u001b[0m\u001b[0;34m,\u001b[0m\u001b[0;34m\u001b[0m\u001b[0;34m\u001b[0m\u001b[0m\n\u001b[0;32m--> 423\u001b[0;31m             \u001b[0msession\u001b[0m\u001b[0;34m=\u001b[0m\u001b[0msession\u001b[0m\u001b[0;34m\u001b[0m\u001b[0;34m\u001b[0m\u001b[0m\n\u001b[0m\u001b[1;32m    424\u001b[0m         )\n",
      "\u001b[0;32m/opt/conda/lib/python3.7/ssl.py\u001b[0m in \u001b[0;36m_create\u001b[0;34m(cls, sock, server_side, do_handshake_on_connect, suppress_ragged_eofs, server_hostname, context, session)\u001b[0m\n\u001b[1;32m    869\u001b[0m                         \u001b[0;32mraise\u001b[0m \u001b[0mValueError\u001b[0m\u001b[0;34m(\u001b[0m\u001b[0;34m\"do_handshake_on_connect should not be specified for non-blocking sockets\"\u001b[0m\u001b[0;34m)\u001b[0m\u001b[0;34m\u001b[0m\u001b[0;34m\u001b[0m\u001b[0m\n\u001b[0;32m--> 870\u001b[0;31m                     \u001b[0mself\u001b[0m\u001b[0;34m.\u001b[0m\u001b[0mdo_handshake\u001b[0m\u001b[0;34m(\u001b[0m\u001b[0;34m)\u001b[0m\u001b[0;34m\u001b[0m\u001b[0;34m\u001b[0m\u001b[0m\n\u001b[0m\u001b[1;32m    871\u001b[0m             \u001b[0;32mexcept\u001b[0m \u001b[0;34m(\u001b[0m\u001b[0mOSError\u001b[0m\u001b[0;34m,\u001b[0m \u001b[0mValueError\u001b[0m\u001b[0;34m)\u001b[0m\u001b[0;34m:\u001b[0m\u001b[0;34m\u001b[0m\u001b[0;34m\u001b[0m\u001b[0m\n",
      "\u001b[0;32m/opt/conda/lib/python3.7/ssl.py\u001b[0m in \u001b[0;36mdo_handshake\u001b[0;34m(self, block)\u001b[0m\n\u001b[1;32m   1138\u001b[0m                 \u001b[0mself\u001b[0m\u001b[0;34m.\u001b[0m\u001b[0msettimeout\u001b[0m\u001b[0;34m(\u001b[0m\u001b[0;32mNone\u001b[0m\u001b[0;34m)\u001b[0m\u001b[0;34m\u001b[0m\u001b[0;34m\u001b[0m\u001b[0m\n\u001b[0;32m-> 1139\u001b[0;31m             \u001b[0mself\u001b[0m\u001b[0;34m.\u001b[0m\u001b[0m_sslobj\u001b[0m\u001b[0;34m.\u001b[0m\u001b[0mdo_handshake\u001b[0m\u001b[0;34m(\u001b[0m\u001b[0;34m)\u001b[0m\u001b[0;34m\u001b[0m\u001b[0;34m\u001b[0m\u001b[0m\n\u001b[0m\u001b[1;32m   1140\u001b[0m         \u001b[0;32mfinally\u001b[0m\u001b[0;34m:\u001b[0m\u001b[0;34m\u001b[0m\u001b[0;34m\u001b[0m\u001b[0m\n",
      "\u001b[0;31mSSLCertVerificationError\u001b[0m: [SSL: CERTIFICATE_VERIFY_FAILED] certificate verify failed: unable to get local issuer certificate (_ssl.c:1091)",
      "\nDuring handling of the above exception, another exception occurred:\n",
      "\u001b[0;31mURLError\u001b[0m                                  Traceback (most recent call last)",
      "\u001b[0;32m/tmp/ipykernel_1/1496336247.py\u001b[0m in \u001b[0;36m<module>\u001b[0;34m\u001b[0m\n\u001b[1;32m     33\u001b[0m \u001b[0;34m\u001b[0m\u001b[0m\n\u001b[1;32m     34\u001b[0m \u001b[0;34m\u001b[0m\u001b[0m\n\u001b[0;32m---> 35\u001b[0;31m \u001b[0mmonetary_base_dataframe\u001b[0m \u001b[0;34m=\u001b[0m \u001b[0mdownload_monetary_base\u001b[0m\u001b[0;34m(\u001b[0m\u001b[0mmonetary_base_data_url\u001b[0m\u001b[0;34m)\u001b[0m\u001b[0;34m\u001b[0m\u001b[0;34m\u001b[0m\u001b[0m\n\u001b[0m\u001b[1;32m     36\u001b[0m \u001b[0mmonetary_base_dataframe\u001b[0m\u001b[0;34m\u001b[0m\u001b[0;34m\u001b[0m\u001b[0m\n",
      "\u001b[0;32m/tmp/ipykernel_1/1496336247.py\u001b[0m in \u001b[0;36mdownload_monetary_base\u001b[0;34m(monetary_base_url)\u001b[0m\n\u001b[1;32m      8\u001b[0m   monetary_base_df = pd.read_excel(monetary_base_url,\n\u001b[1;32m      9\u001b[0m                                   \u001b[0mskiprows\u001b[0m\u001b[0;34m=\u001b[0m\u001b[0;36m10\u001b[0m\u001b[0;34m,\u001b[0m\u001b[0;34m\u001b[0m\u001b[0;34m\u001b[0m\u001b[0m\n\u001b[0;32m---> 10\u001b[0;31m                                   skipfooter=3)\n\u001b[0m\u001b[1;32m     11\u001b[0m \u001b[0;34m\u001b[0m\u001b[0m\n\u001b[1;32m     12\u001b[0m   \u001b[0mmonetary_base_df\u001b[0m \u001b[0;34m=\u001b[0m \u001b[0mmonetary_base_df\u001b[0m\u001b[0;34m.\u001b[0m\u001b[0miloc\u001b[0m\u001b[0;34m[\u001b[0m\u001b[0;34m:\u001b[0m\u001b[0;34m,\u001b[0m\u001b[0;34m[\u001b[0m\u001b[0;36m2\u001b[0m\u001b[0;34m,\u001b[0m \u001b[0;36m6\u001b[0m\u001b[0;34m,\u001b[0m \u001b[0;36m16\u001b[0m\u001b[0;34m]\u001b[0m\u001b[0;34m]\u001b[0m\u001b[0;34m\u001b[0m\u001b[0;34m\u001b[0m\u001b[0m\n",
      "\u001b[0;32m/opt/conda/lib/python3.7/site-packages/pandas/util/_decorators.py\u001b[0m in \u001b[0;36mwrapper\u001b[0;34m(*args, **kwargs)\u001b[0m\n\u001b[1;32m    309\u001b[0m                     \u001b[0mstacklevel\u001b[0m\u001b[0;34m=\u001b[0m\u001b[0mstacklevel\u001b[0m\u001b[0;34m,\u001b[0m\u001b[0;34m\u001b[0m\u001b[0;34m\u001b[0m\u001b[0m\n\u001b[1;32m    310\u001b[0m                 )\n\u001b[0;32m--> 311\u001b[0;31m             \u001b[0;32mreturn\u001b[0m \u001b[0mfunc\u001b[0m\u001b[0;34m(\u001b[0m\u001b[0;34m*\u001b[0m\u001b[0margs\u001b[0m\u001b[0;34m,\u001b[0m \u001b[0;34m**\u001b[0m\u001b[0mkwargs\u001b[0m\u001b[0;34m)\u001b[0m\u001b[0;34m\u001b[0m\u001b[0;34m\u001b[0m\u001b[0m\n\u001b[0m\u001b[1;32m    312\u001b[0m \u001b[0;34m\u001b[0m\u001b[0m\n\u001b[1;32m    313\u001b[0m         \u001b[0;32mreturn\u001b[0m \u001b[0mwrapper\u001b[0m\u001b[0;34m\u001b[0m\u001b[0;34m\u001b[0m\u001b[0m\n",
      "\u001b[0;32m/opt/conda/lib/python3.7/site-packages/pandas/io/excel/_base.py\u001b[0m in \u001b[0;36mread_excel\u001b[0;34m(io, sheet_name, header, names, index_col, usecols, squeeze, dtype, engine, converters, true_values, false_values, skiprows, nrows, na_values, keep_default_na, na_filter, verbose, parse_dates, date_parser, thousands, comment, skipfooter, convert_float, mangle_dupe_cols, storage_options)\u001b[0m\n\u001b[1;32m    362\u001b[0m     \u001b[0;32mif\u001b[0m \u001b[0;32mnot\u001b[0m \u001b[0misinstance\u001b[0m\u001b[0;34m(\u001b[0m\u001b[0mio\u001b[0m\u001b[0;34m,\u001b[0m \u001b[0mExcelFile\u001b[0m\u001b[0;34m)\u001b[0m\u001b[0;34m:\u001b[0m\u001b[0;34m\u001b[0m\u001b[0;34m\u001b[0m\u001b[0m\n\u001b[1;32m    363\u001b[0m         \u001b[0mshould_close\u001b[0m \u001b[0;34m=\u001b[0m \u001b[0;32mTrue\u001b[0m\u001b[0;34m\u001b[0m\u001b[0;34m\u001b[0m\u001b[0m\n\u001b[0;32m--> 364\u001b[0;31m         \u001b[0mio\u001b[0m \u001b[0;34m=\u001b[0m \u001b[0mExcelFile\u001b[0m\u001b[0;34m(\u001b[0m\u001b[0mio\u001b[0m\u001b[0;34m,\u001b[0m \u001b[0mstorage_options\u001b[0m\u001b[0;34m=\u001b[0m\u001b[0mstorage_options\u001b[0m\u001b[0;34m,\u001b[0m \u001b[0mengine\u001b[0m\u001b[0;34m=\u001b[0m\u001b[0mengine\u001b[0m\u001b[0;34m)\u001b[0m\u001b[0;34m\u001b[0m\u001b[0;34m\u001b[0m\u001b[0m\n\u001b[0m\u001b[1;32m    365\u001b[0m     \u001b[0;32melif\u001b[0m \u001b[0mengine\u001b[0m \u001b[0;32mand\u001b[0m \u001b[0mengine\u001b[0m \u001b[0;34m!=\u001b[0m \u001b[0mio\u001b[0m\u001b[0;34m.\u001b[0m\u001b[0mengine\u001b[0m\u001b[0;34m:\u001b[0m\u001b[0;34m\u001b[0m\u001b[0;34m\u001b[0m\u001b[0m\n\u001b[1;32m    366\u001b[0m         raise ValueError(\n",
      "\u001b[0;32m/opt/conda/lib/python3.7/site-packages/pandas/io/excel/_base.py\u001b[0m in \u001b[0;36m__init__\u001b[0;34m(self, path_or_buffer, engine, storage_options)\u001b[0m\n\u001b[1;32m   1190\u001b[0m             \u001b[0;32melse\u001b[0m\u001b[0;34m:\u001b[0m\u001b[0;34m\u001b[0m\u001b[0;34m\u001b[0m\u001b[0m\n\u001b[1;32m   1191\u001b[0m                 ext = inspect_excel_format(\n\u001b[0;32m-> 1192\u001b[0;31m                     \u001b[0mcontent_or_path\u001b[0m\u001b[0;34m=\u001b[0m\u001b[0mpath_or_buffer\u001b[0m\u001b[0;34m,\u001b[0m \u001b[0mstorage_options\u001b[0m\u001b[0;34m=\u001b[0m\u001b[0mstorage_options\u001b[0m\u001b[0;34m\u001b[0m\u001b[0;34m\u001b[0m\u001b[0m\n\u001b[0m\u001b[1;32m   1193\u001b[0m                 )\n\u001b[1;32m   1194\u001b[0m                 \u001b[0;32mif\u001b[0m \u001b[0mext\u001b[0m \u001b[0;32mis\u001b[0m \u001b[0;32mNone\u001b[0m\u001b[0;34m:\u001b[0m\u001b[0;34m\u001b[0m\u001b[0;34m\u001b[0m\u001b[0m\n",
      "\u001b[0;32m/opt/conda/lib/python3.7/site-packages/pandas/io/excel/_base.py\u001b[0m in \u001b[0;36minspect_excel_format\u001b[0;34m(content_or_path, storage_options)\u001b[0m\n\u001b[1;32m   1069\u001b[0m \u001b[0;34m\u001b[0m\u001b[0m\n\u001b[1;32m   1070\u001b[0m     with get_handle(\n\u001b[0;32m-> 1071\u001b[0;31m         \u001b[0mcontent_or_path\u001b[0m\u001b[0;34m,\u001b[0m \u001b[0;34m\"rb\"\u001b[0m\u001b[0;34m,\u001b[0m \u001b[0mstorage_options\u001b[0m\u001b[0;34m=\u001b[0m\u001b[0mstorage_options\u001b[0m\u001b[0;34m,\u001b[0m \u001b[0mis_text\u001b[0m\u001b[0;34m=\u001b[0m\u001b[0;32mFalse\u001b[0m\u001b[0;34m\u001b[0m\u001b[0;34m\u001b[0m\u001b[0m\n\u001b[0m\u001b[1;32m   1072\u001b[0m     ) as handle:\n\u001b[1;32m   1073\u001b[0m         \u001b[0mstream\u001b[0m \u001b[0;34m=\u001b[0m \u001b[0mhandle\u001b[0m\u001b[0;34m.\u001b[0m\u001b[0mhandle\u001b[0m\u001b[0;34m\u001b[0m\u001b[0;34m\u001b[0m\u001b[0m\n",
      "\u001b[0;32m/opt/conda/lib/python3.7/site-packages/pandas/io/common.py\u001b[0m in \u001b[0;36mget_handle\u001b[0;34m(path_or_buf, mode, encoding, compression, memory_map, is_text, errors, storage_options)\u001b[0m\n\u001b[1;32m    612\u001b[0m         \u001b[0mcompression\u001b[0m\u001b[0;34m=\u001b[0m\u001b[0mcompression\u001b[0m\u001b[0;34m,\u001b[0m\u001b[0;34m\u001b[0m\u001b[0;34m\u001b[0m\u001b[0m\n\u001b[1;32m    613\u001b[0m         \u001b[0mmode\u001b[0m\u001b[0;34m=\u001b[0m\u001b[0mmode\u001b[0m\u001b[0;34m,\u001b[0m\u001b[0;34m\u001b[0m\u001b[0;34m\u001b[0m\u001b[0m\n\u001b[0;32m--> 614\u001b[0;31m         \u001b[0mstorage_options\u001b[0m\u001b[0;34m=\u001b[0m\u001b[0mstorage_options\u001b[0m\u001b[0;34m,\u001b[0m\u001b[0;34m\u001b[0m\u001b[0;34m\u001b[0m\u001b[0m\n\u001b[0m\u001b[1;32m    615\u001b[0m     )\n\u001b[1;32m    616\u001b[0m \u001b[0;34m\u001b[0m\u001b[0m\n",
      "\u001b[0;32m/opt/conda/lib/python3.7/site-packages/pandas/io/common.py\u001b[0m in \u001b[0;36m_get_filepath_or_buffer\u001b[0;34m(filepath_or_buffer, encoding, compression, mode, storage_options)\u001b[0m\n\u001b[1;32m    310\u001b[0m         \u001b[0;31m# assuming storage_options is to be interpreted as headers\u001b[0m\u001b[0;34m\u001b[0m\u001b[0;34m\u001b[0m\u001b[0;34m\u001b[0m\u001b[0m\n\u001b[1;32m    311\u001b[0m         \u001b[0mreq_info\u001b[0m \u001b[0;34m=\u001b[0m \u001b[0murllib\u001b[0m\u001b[0;34m.\u001b[0m\u001b[0mrequest\u001b[0m\u001b[0;34m.\u001b[0m\u001b[0mRequest\u001b[0m\u001b[0;34m(\u001b[0m\u001b[0mfilepath_or_buffer\u001b[0m\u001b[0;34m,\u001b[0m \u001b[0mheaders\u001b[0m\u001b[0;34m=\u001b[0m\u001b[0mstorage_options\u001b[0m\u001b[0;34m)\u001b[0m\u001b[0;34m\u001b[0m\u001b[0;34m\u001b[0m\u001b[0m\n\u001b[0;32m--> 312\u001b[0;31m         \u001b[0;32mwith\u001b[0m \u001b[0murlopen\u001b[0m\u001b[0;34m(\u001b[0m\u001b[0mreq_info\u001b[0m\u001b[0;34m)\u001b[0m \u001b[0;32mas\u001b[0m \u001b[0mreq\u001b[0m\u001b[0;34m:\u001b[0m\u001b[0;34m\u001b[0m\u001b[0;34m\u001b[0m\u001b[0m\n\u001b[0m\u001b[1;32m    313\u001b[0m             \u001b[0mcontent_encoding\u001b[0m \u001b[0;34m=\u001b[0m \u001b[0mreq\u001b[0m\u001b[0;34m.\u001b[0m\u001b[0mheaders\u001b[0m\u001b[0;34m.\u001b[0m\u001b[0mget\u001b[0m\u001b[0;34m(\u001b[0m\u001b[0;34m\"Content-Encoding\"\u001b[0m\u001b[0;34m,\u001b[0m \u001b[0;32mNone\u001b[0m\u001b[0;34m)\u001b[0m\u001b[0;34m\u001b[0m\u001b[0;34m\u001b[0m\u001b[0m\n\u001b[1;32m    314\u001b[0m             \u001b[0;32mif\u001b[0m \u001b[0mcontent_encoding\u001b[0m \u001b[0;34m==\u001b[0m \u001b[0;34m\"gzip\"\u001b[0m\u001b[0;34m:\u001b[0m\u001b[0;34m\u001b[0m\u001b[0;34m\u001b[0m\u001b[0m\n",
      "\u001b[0;32m/opt/conda/lib/python3.7/site-packages/pandas/io/common.py\u001b[0m in \u001b[0;36murlopen\u001b[0;34m(*args, **kwargs)\u001b[0m\n\u001b[1;32m    210\u001b[0m     \u001b[0;32mimport\u001b[0m \u001b[0murllib\u001b[0m\u001b[0;34m.\u001b[0m\u001b[0mrequest\u001b[0m\u001b[0;34m\u001b[0m\u001b[0;34m\u001b[0m\u001b[0m\n\u001b[1;32m    211\u001b[0m \u001b[0;34m\u001b[0m\u001b[0m\n\u001b[0;32m--> 212\u001b[0;31m     \u001b[0;32mreturn\u001b[0m \u001b[0murllib\u001b[0m\u001b[0;34m.\u001b[0m\u001b[0mrequest\u001b[0m\u001b[0;34m.\u001b[0m\u001b[0murlopen\u001b[0m\u001b[0;34m(\u001b[0m\u001b[0;34m*\u001b[0m\u001b[0margs\u001b[0m\u001b[0;34m,\u001b[0m \u001b[0;34m**\u001b[0m\u001b[0mkwargs\u001b[0m\u001b[0;34m)\u001b[0m\u001b[0;34m\u001b[0m\u001b[0;34m\u001b[0m\u001b[0m\n\u001b[0m\u001b[1;32m    213\u001b[0m \u001b[0;34m\u001b[0m\u001b[0m\n\u001b[1;32m    214\u001b[0m \u001b[0;34m\u001b[0m\u001b[0m\n",
      "\u001b[0;32m/opt/conda/lib/python3.7/urllib/request.py\u001b[0m in \u001b[0;36murlopen\u001b[0;34m(url, data, timeout, cafile, capath, cadefault, context)\u001b[0m\n\u001b[1;32m    220\u001b[0m     \u001b[0;32melse\u001b[0m\u001b[0;34m:\u001b[0m\u001b[0;34m\u001b[0m\u001b[0;34m\u001b[0m\u001b[0m\n\u001b[1;32m    221\u001b[0m         \u001b[0mopener\u001b[0m \u001b[0;34m=\u001b[0m \u001b[0m_opener\u001b[0m\u001b[0;34m\u001b[0m\u001b[0;34m\u001b[0m\u001b[0m\n\u001b[0;32m--> 222\u001b[0;31m     \u001b[0;32mreturn\u001b[0m \u001b[0mopener\u001b[0m\u001b[0;34m.\u001b[0m\u001b[0mopen\u001b[0m\u001b[0;34m(\u001b[0m\u001b[0murl\u001b[0m\u001b[0;34m,\u001b[0m \u001b[0mdata\u001b[0m\u001b[0;34m,\u001b[0m \u001b[0mtimeout\u001b[0m\u001b[0;34m)\u001b[0m\u001b[0;34m\u001b[0m\u001b[0;34m\u001b[0m\u001b[0m\n\u001b[0m\u001b[1;32m    223\u001b[0m \u001b[0;34m\u001b[0m\u001b[0m\n\u001b[1;32m    224\u001b[0m \u001b[0;32mdef\u001b[0m \u001b[0minstall_opener\u001b[0m\u001b[0;34m(\u001b[0m\u001b[0mopener\u001b[0m\u001b[0;34m)\u001b[0m\u001b[0;34m:\u001b[0m\u001b[0;34m\u001b[0m\u001b[0;34m\u001b[0m\u001b[0m\n",
      "\u001b[0;32m/opt/conda/lib/python3.7/urllib/request.py\u001b[0m in \u001b[0;36mopen\u001b[0;34m(self, fullurl, data, timeout)\u001b[0m\n\u001b[1;32m    523\u001b[0m             \u001b[0mreq\u001b[0m \u001b[0;34m=\u001b[0m \u001b[0mmeth\u001b[0m\u001b[0;34m(\u001b[0m\u001b[0mreq\u001b[0m\u001b[0;34m)\u001b[0m\u001b[0;34m\u001b[0m\u001b[0;34m\u001b[0m\u001b[0m\n\u001b[1;32m    524\u001b[0m \u001b[0;34m\u001b[0m\u001b[0m\n\u001b[0;32m--> 525\u001b[0;31m         \u001b[0mresponse\u001b[0m \u001b[0;34m=\u001b[0m \u001b[0mself\u001b[0m\u001b[0;34m.\u001b[0m\u001b[0m_open\u001b[0m\u001b[0;34m(\u001b[0m\u001b[0mreq\u001b[0m\u001b[0;34m,\u001b[0m \u001b[0mdata\u001b[0m\u001b[0;34m)\u001b[0m\u001b[0;34m\u001b[0m\u001b[0;34m\u001b[0m\u001b[0m\n\u001b[0m\u001b[1;32m    526\u001b[0m \u001b[0;34m\u001b[0m\u001b[0m\n\u001b[1;32m    527\u001b[0m         \u001b[0;31m# post-process response\u001b[0m\u001b[0;34m\u001b[0m\u001b[0;34m\u001b[0m\u001b[0;34m\u001b[0m\u001b[0m\n",
      "\u001b[0;32m/opt/conda/lib/python3.7/urllib/request.py\u001b[0m in \u001b[0;36m_open\u001b[0;34m(self, req, data)\u001b[0m\n\u001b[1;32m    541\u001b[0m         \u001b[0mprotocol\u001b[0m \u001b[0;34m=\u001b[0m \u001b[0mreq\u001b[0m\u001b[0;34m.\u001b[0m\u001b[0mtype\u001b[0m\u001b[0;34m\u001b[0m\u001b[0;34m\u001b[0m\u001b[0m\n\u001b[1;32m    542\u001b[0m         result = self._call_chain(self.handle_open, protocol, protocol +\n\u001b[0;32m--> 543\u001b[0;31m                                   '_open', req)\n\u001b[0m\u001b[1;32m    544\u001b[0m         \u001b[0;32mif\u001b[0m \u001b[0mresult\u001b[0m\u001b[0;34m:\u001b[0m\u001b[0;34m\u001b[0m\u001b[0;34m\u001b[0m\u001b[0m\n\u001b[1;32m    545\u001b[0m             \u001b[0;32mreturn\u001b[0m \u001b[0mresult\u001b[0m\u001b[0;34m\u001b[0m\u001b[0;34m\u001b[0m\u001b[0m\n",
      "\u001b[0;32m/opt/conda/lib/python3.7/urllib/request.py\u001b[0m in \u001b[0;36m_call_chain\u001b[0;34m(self, chain, kind, meth_name, *args)\u001b[0m\n\u001b[1;32m    501\u001b[0m         \u001b[0;32mfor\u001b[0m \u001b[0mhandler\u001b[0m \u001b[0;32min\u001b[0m \u001b[0mhandlers\u001b[0m\u001b[0;34m:\u001b[0m\u001b[0;34m\u001b[0m\u001b[0;34m\u001b[0m\u001b[0m\n\u001b[1;32m    502\u001b[0m             \u001b[0mfunc\u001b[0m \u001b[0;34m=\u001b[0m \u001b[0mgetattr\u001b[0m\u001b[0;34m(\u001b[0m\u001b[0mhandler\u001b[0m\u001b[0;34m,\u001b[0m \u001b[0mmeth_name\u001b[0m\u001b[0;34m)\u001b[0m\u001b[0;34m\u001b[0m\u001b[0;34m\u001b[0m\u001b[0m\n\u001b[0;32m--> 503\u001b[0;31m             \u001b[0mresult\u001b[0m \u001b[0;34m=\u001b[0m \u001b[0mfunc\u001b[0m\u001b[0;34m(\u001b[0m\u001b[0;34m*\u001b[0m\u001b[0margs\u001b[0m\u001b[0;34m)\u001b[0m\u001b[0;34m\u001b[0m\u001b[0;34m\u001b[0m\u001b[0m\n\u001b[0m\u001b[1;32m    504\u001b[0m             \u001b[0;32mif\u001b[0m \u001b[0mresult\u001b[0m \u001b[0;32mis\u001b[0m \u001b[0;32mnot\u001b[0m \u001b[0;32mNone\u001b[0m\u001b[0;34m:\u001b[0m\u001b[0;34m\u001b[0m\u001b[0;34m\u001b[0m\u001b[0m\n\u001b[1;32m    505\u001b[0m                 \u001b[0;32mreturn\u001b[0m \u001b[0mresult\u001b[0m\u001b[0;34m\u001b[0m\u001b[0;34m\u001b[0m\u001b[0m\n",
      "\u001b[0;32m/opt/conda/lib/python3.7/urllib/request.py\u001b[0m in \u001b[0;36mhttps_open\u001b[0;34m(self, req)\u001b[0m\n\u001b[1;32m   1391\u001b[0m         \u001b[0;32mdef\u001b[0m \u001b[0mhttps_open\u001b[0m\u001b[0;34m(\u001b[0m\u001b[0mself\u001b[0m\u001b[0;34m,\u001b[0m \u001b[0mreq\u001b[0m\u001b[0;34m)\u001b[0m\u001b[0;34m:\u001b[0m\u001b[0;34m\u001b[0m\u001b[0;34m\u001b[0m\u001b[0m\n\u001b[1;32m   1392\u001b[0m             return self.do_open(http.client.HTTPSConnection, req,\n\u001b[0;32m-> 1393\u001b[0;31m                 context=self._context, check_hostname=self._check_hostname)\n\u001b[0m\u001b[1;32m   1394\u001b[0m \u001b[0;34m\u001b[0m\u001b[0m\n\u001b[1;32m   1395\u001b[0m         \u001b[0mhttps_request\u001b[0m \u001b[0;34m=\u001b[0m \u001b[0mAbstractHTTPHandler\u001b[0m\u001b[0;34m.\u001b[0m\u001b[0mdo_request_\u001b[0m\u001b[0;34m\u001b[0m\u001b[0;34m\u001b[0m\u001b[0m\n",
      "\u001b[0;32m/opt/conda/lib/python3.7/urllib/request.py\u001b[0m in \u001b[0;36mdo_open\u001b[0;34m(self, http_class, req, **http_conn_args)\u001b[0m\n\u001b[1;32m   1350\u001b[0m                           encode_chunked=req.has_header('Transfer-encoding'))\n\u001b[1;32m   1351\u001b[0m             \u001b[0;32mexcept\u001b[0m \u001b[0mOSError\u001b[0m \u001b[0;32mas\u001b[0m \u001b[0merr\u001b[0m\u001b[0;34m:\u001b[0m \u001b[0;31m# timeout error\u001b[0m\u001b[0;34m\u001b[0m\u001b[0;34m\u001b[0m\u001b[0m\n\u001b[0;32m-> 1352\u001b[0;31m                 \u001b[0;32mraise\u001b[0m \u001b[0mURLError\u001b[0m\u001b[0;34m(\u001b[0m\u001b[0merr\u001b[0m\u001b[0;34m)\u001b[0m\u001b[0;34m\u001b[0m\u001b[0;34m\u001b[0m\u001b[0m\n\u001b[0m\u001b[1;32m   1353\u001b[0m             \u001b[0mr\u001b[0m \u001b[0;34m=\u001b[0m \u001b[0mh\u001b[0m\u001b[0;34m.\u001b[0m\u001b[0mgetresponse\u001b[0m\u001b[0;34m(\u001b[0m\u001b[0;34m)\u001b[0m\u001b[0;34m\u001b[0m\u001b[0;34m\u001b[0m\u001b[0m\n\u001b[1;32m   1354\u001b[0m         \u001b[0;32mexcept\u001b[0m\u001b[0;34m:\u001b[0m\u001b[0;34m\u001b[0m\u001b[0;34m\u001b[0m\u001b[0m\n",
      "\u001b[0;31mURLError\u001b[0m: <urlopen error [SSL: CERTIFICATE_VERIFY_FAILED] certificate verify failed: unable to get local issuer certificate (_ssl.c:1091)>"
     ]
    }
   ],
   "source": [
    "monetary_base_data_url = \"https://www.banguat.gob.gt/sites/default/files/banguat/estamonfin/estamonfin031.xls\"\n",
    "\n",
    "RESTRICTED_MONETARY_BASE = \"Base monetaria restringida\"\n",
    "AMPLE_MONETARY_BASE = \"Base monetaria amplia\"\n",
    "def download_monetary_base(monetary_base_url):\n",
    "  '''\n",
    "  '''\n",
    "  monetary_base_df = pd.read_excel(monetary_base_url,\n",
    "                                  skiprows=10,\n",
    "                                  skipfooter=3)\n",
    "\n",
    "  monetary_base_df = monetary_base_df.iloc[:,[2, 6, 16]]\n",
    "\n",
    "\n",
    "  monetary_base_df.columns = ['date', RESTRICTED_MONETARY_BASE, \n",
    "                              AMPLE_MONETARY_BASE]\n",
    "\n",
    "  start_year = 2001\n",
    "\n",
    "  start_date = datetime.datetime(year=start_year, \n",
    "                                month=12, \n",
    "                                day=1)\n",
    "\n",
    "  months_since_then = len(monetary_base_df[\"date\"]) # trimestres hasta el presente\n",
    "  months = pd.period_range(start_date, periods=months_since_then,freq='M')\n",
    "\n",
    "  dates = pd.PeriodIndex(months, freq='M').to_timestamp()\n",
    "\n",
    "  monetary_base_df[\"date\"] = dates \n",
    "  monetary_base_df.insert(loc=1, column=\"month\", value=months, allow_duplicates=True)\n",
    "\n",
    "  return monetary_base_df\n",
    "\n",
    "\n",
    "monetary_base_dataframe = download_monetary_base(monetary_base_data_url)\n",
    "monetary_base_dataframe"
   ]
  },
  {
   "cell_type": "markdown",
   "metadata": {
    "id": "UHJfDVV20Rtt"
   },
   "source": [
    "## Agregados monetarios\n",
    "\n",
    "Agregados monetarios M1, M2, y M3.\n",
    "\n",
    "* https://www.banguat.gob.gt/es/page/iii2-agregados-monetarios"
   ]
  },
  {
   "cell_type": "code",
   "execution_count": null,
   "metadata": {
    "colab": {
     "base_uri": "https://localhost:8080/",
     "height": 521
    },
    "id": "R1gGnlJGzdOc",
    "outputId": "f4506fd0-e657-4df3-fda2-b1baca7daa28"
   },
   "outputs": [],
   "source": [
    "money_supply_data_url = \"https://www.banguat.gob.gt/sites/default/files/banguat/estamonfin/estamonfin032.xls\"\n",
    "\n",
    "\n",
    "\n",
    "def download_money_supply(money_supply_url):\n",
    "  '''\n",
    "  '''\n",
    "\n",
    "  money_supply_df = pd.read_excel(money_supply_url,\n",
    "                                  skiprows=10,\n",
    "                                  skipfooter=6)\n",
    "  \n",
    "  money_supply_df = money_supply_df.iloc[:,[2,5,8,12]]\n",
    "\n",
    "  money_supply_df.columns = ['date', 'M1', 'M2', 'M3']\n",
    "\n",
    "  start_year = 2001\n",
    "\n",
    "  start_date = datetime.datetime(year=start_year, \n",
    "                                month=12, \n",
    "                                day=1)\n",
    "\n",
    "  months_since_then = len(money_supply_df[\"date\"])\n",
    "  months = pd.period_range(start_date, periods=months_since_then,freq='M')\n",
    "\n",
    "  dates = pd.PeriodIndex(months, freq='M').to_timestamp()\n",
    "\n",
    "  money_supply_df[\"date\"] = dates \n",
    "  money_supply_df.insert(loc=1, column=\"month\", value=months, allow_duplicates=True)\n",
    "\n",
    "  return money_supply_df\n",
    "\n",
    "money_supply_dataframe = download_money_supply(money_supply_data_url)\n",
    "money_supply_dataframe"
   ]
  },
  {
   "cell_type": "code",
   "execution_count": null,
   "metadata": {
    "colab": {
     "base_uri": "https://localhost:8080/",
     "height": 545
    },
    "id": "9_B0DdPw0Wle",
    "outputId": "6798fa6a-e1c8-420f-b421-d64e3365776d"
   },
   "outputs": [],
   "source": [
    "last_many_months = -12 * 5 + 1\n",
    "\n",
    "RESTRICTED_BASE_GROWTH = \"Crecimiento base monetaria restringida\"\n",
    "M1_SUPPLY_GROWTH = \"Crecimiento M1\"\n",
    "AMPLE_BASE_GROWTH = \"Crecimiento base monetaria amplia\"\n",
    "M3_SUPPLY_GROWTH = \"Crecimiento M3\"\n",
    "\n",
    "\n",
    "money_supply_growth_data = {\n",
    "    'labels': monetary_base_dataframe['month'][last_many_months:].astype(str),\n",
    "    'dates': monetary_base_dataframe['date'][last_many_months:],\n",
    "    RESTRICTED_BASE_GROWTH: trends.get_yearonyear_variation(list(monetary_base_dataframe[RESTRICTED_MONETARY_BASE]),\n",
    "                                                       inter_values_size=12)[last_many_months:],\n",
    "    M1_SUPPLY_GROWTH: trends.get_yearonyear_variation(list(money_supply_dataframe['M1']),\n",
    "                         inter_values_size=12)[last_many_months:],\n",
    "\n",
    "    #\n",
    "    AMPLE_BASE_GROWTH: trends.get_yearonyear_variation(list(monetary_base_dataframe[AMPLE_MONETARY_BASE]),\n",
    "                                                       inter_values_size=12)[last_many_months:],\n",
    "    M3_SUPPLY_GROWTH: trends.get_yearonyear_variation(list(money_supply_dataframe['M3']),\n",
    "                         inter_values_size=12)[last_many_months:],\n",
    "}\n",
    "\n",
    "plt.plot(money_supply_growth_data['dates'],\n",
    "         money_supply_growth_data[RESTRICTED_BASE_GROWTH],\n",
    "         label=\"Base monetaria restringida\"\n",
    "         )\n",
    "plt.plot(money_supply_dataframe['date'][last_many_months:],\n",
    "         money_supply_growth_data[M1_SUPPLY_GROWTH],\n",
    "         color=\"red\",\n",
    "         label='M1'\n",
    "         )\n",
    "plt.ylim(0,0.30)\n",
    "# plt.ylabel(\"Crecimiento interanual\")\n",
    "plt.title(\"Agregados monetarios (moneda nacional)\")\n",
    "plt.legend()\n",
    "plt.show()\n",
    "\n",
    "\n",
    "#\n",
    "plt.plot(money_supply_growth_data['dates'],\n",
    "         money_supply_growth_data[AMPLE_BASE_GROWTH],\n",
    "         label='Base monetaria amplia'\n",
    "         )\n",
    "plt.plot(money_supply_dataframe['date'][last_many_months:],\n",
    "         money_supply_growth_data[M3_SUPPLY_GROWTH],\n",
    "         color=\"red\",\n",
    "         label='M3'\n",
    "         )\n",
    "plt.ylim(-0.1,0.30)\n",
    "plt.ylabel(\"Crecimiento interanual\")\n",
    "plt.title(\"Agregados monetarios (incluye dólar)\")\n",
    "plt.legend()\n",
    "plt.show()\n"
   ]
  },
  {
   "cell_type": "code",
   "execution_count": null,
   "metadata": {
    "id": "i_8k6CkN2Ns6"
   },
   "outputs": [],
   "source": [
    "money_supply_growth_csv = \"Agregados-Monetarios-Crecimiento-Interanual.csv\"\n",
    "money_supply_growth_df = pd.DataFrame(money_supply_growth_data)\n",
    "money_supply_growth_df.iloc[:,2:] *= 100\n",
    "money_supply_growth_df.to_csv(money_supply_growth_csv, index=False)"
   ]
  },
  {
   "cell_type": "code",
   "execution_count": null,
   "metadata": {
    "colab": {
     "base_uri": "https://localhost:8080/"
    },
    "id": "h2e_qhsS6aXa",
    "outputId": "734b78b6-6380-459e-fa79-e556e70732d3"
   },
   "outputs": [],
   "source": [
    "# # https://colab.research.google.com/notebooks/snippets/gcs.ipynb\n",
    "# from google.colab import auth\n",
    "# auth.authenticate_user()\n",
    "\n",
    "# Vertex AI authenticates automatically\n",
    "\n",
    "# project_id = 'ufm-market-trends'\n",
    "# !gcloud config set project {project_id}"
   ]
  },
  {
   "cell_type": "code",
   "execution_count": null,
   "metadata": {
    "colab": {
     "base_uri": "https://localhost:8080/"
    },
    "id": "OIio78pO0b9l",
    "outputId": "c718e958-8520-4b2b-9177-2a61e6bfe7e6"
   },
   "outputs": [],
   "source": [
    "bucket_path = 'ufm-market-trends/guatemala/agregados-monetarios/agregados-monetarios-crecimiento'\n",
    "csv_file = money_supply_growth_csv\n",
    "\n",
    "!gsutil -h \"Cache-Control:public, max-age=1\" cp {csv_file} gs://{bucket_path}\n",
    "!gsutil cp gs://{bucket_path}/{csv_file} gs://{bucket_path}/{'archivo'}/{today+'-'+csv_file}  \n",
    "!gsutil cat gs://{bucket_path}/{csv_file}"
   ]
  },
  {
   "cell_type": "markdown",
   "metadata": {
    "id": "4txzqH6aB5a7"
   },
   "source": [
    "## Medios de pago\n",
    "* M2 moneda nacional http://www.banguat.gob.gt/es/page/en-moneda-nacional-3 (imm18a.xls)\n",
    "* M2 moneda extranjera http://www.banguat.gob.gt/page/en-moneda-extranjera-0 (imm18b.xls)\n",
    "* Base monetaria http://www.banguat.gob.gt/page/base-monetaria (imm14.xls)"
   ]
  },
  {
   "cell_type": "code",
   "execution_count": null,
   "metadata": {
    "colab": {
     "base_uri": "https://localhost:8080/"
    },
    "id": "fWXFSRqG6ORT",
    "outputId": "37bc57a4-a25a-4364-c43b-b3c0e6bea41f"
   },
   "outputs": [],
   "source": [
    "total_monetary_base_url = \"http://www.banguat.gob.gt/sites/default/files/banguat/imm/imm14.xls\"\n",
    "\n",
    "TOTAL_MONETARY_BASE = \"Base monetaria\"\n",
    "def download_total_monetary_base(url):\n",
    "  df = pd.read_excel(url,\n",
    "                     skiprows=5,\n",
    "                     skipfooter=2)\n",
    "\n",
    "  df = df.iloc[:, 2:]\n",
    "\n",
    "  df = df.transpose().stack().reset_index()\n",
    "\n",
    "  month_rows = np.arange(0,12)\n",
    "  df = df.drop(month_rows).reset_index(drop=True)\n",
    "  df.columns = ['date', 'month', TOTAL_MONETARY_BASE] \n",
    "\n",
    "  start_year = 1995\n",
    "\n",
    "  start_date = datetime.datetime(year=start_year, \n",
    "                                 month=1,\n",
    "                                 day=1)\n",
    "\n",
    "\n",
    "  months_amount = len(df[\"month\"])\n",
    "  months = pd.period_range(start_date, periods=months_amount, freq='M')\n",
    "\n",
    "  df[\"date\"] = pd.PeriodIndex(months, freq='M').to_timestamp()\n",
    "  df[\"month\"] = months\n",
    "\n",
    "  df[TOTAL_MONETARY_BASE] = df[TOTAL_MONETARY_BASE].astype(str).str.replace(',', '').astype(float)\n",
    "\n",
    "  return df\n",
    "\n",
    "\n",
    "m2_national_currency_url = \"http://www.banguat.gob.gt/sites/default/files/banguat/imm/imm18a.xls\"\n",
    "M2_NATIONAL_CURRENCY = \"M2 Moneda nacional\"\n",
    "\n",
    "def download_M2_national(url):\n",
    "  df = pd.read_excel(url,\n",
    "                     skiprows=3,\n",
    "                     skipfooter=4)\n",
    "  \n",
    "  df = df.iloc[:,2:-1]\n",
    "\n",
    "  df = df.transpose().stack().reset_index()\n",
    "\n",
    "  month_rows = np.arange(0,12)\n",
    "  df = df.drop(month_rows).reset_index(drop=True)\n",
    "  df.columns = ['date', 'month', M2_NATIONAL_CURRENCY] \n",
    "\n",
    "  start_year = 1995\n",
    "\n",
    "  start_date = datetime.datetime(year=start_year, \n",
    "                                 month=1,\n",
    "                                 day=1)\n",
    "\n",
    "\n",
    "  months_amount = len(df[\"month\"])\n",
    "  months = pd.period_range(start_date, periods=months_amount, freq='M')\n",
    "\n",
    "  df[\"date\"] = pd.PeriodIndex(months, freq='M').to_timestamp()\n",
    "  df[\"month\"] = months\n",
    "\n",
    "\n",
    "  return df\n",
    "\n",
    "m2_foreign_currency_url = \"http://www.banguat.gob.gt/sites/default/files/banguat/imm/imm18b.xls\"\n",
    "M2_FOREIGN_CURRENCY = \"M2 Moneda extranjera\"\n",
    "\n",
    "def download_M2_foreign(url):\n",
    "  df = pd.read_excel(url,\n",
    "                     skiprows=3,\n",
    "                     skipfooter=5)\n",
    "  \n",
    "  df = df.iloc[:,2:-1]\n",
    "\n",
    "  df = df.transpose().stack().reset_index()\n",
    "\n",
    "  month_rows = np.arange(0,12)\n",
    "  df = df.drop(month_rows).reset_index(drop=True)\n",
    "  df.columns = ['date', 'month', M2_FOREIGN_CURRENCY] \n",
    "\n",
    "  start_year = 1995\n",
    "\n",
    "  start_date = datetime.datetime(year=start_year, \n",
    "                                 month=1,\n",
    "                                 day=1)\n",
    "\n",
    "\n",
    "  months_amount = len(df[\"month\"])\n",
    "  months = pd.period_range(start_date, periods=months_amount, freq='M')\n",
    "\n",
    "  df[\"date\"] = pd.PeriodIndex(months, freq='M').to_timestamp()\n",
    "  df[\"month\"] = months\n",
    "\n",
    "\n",
    "  return df\n",
    "\n",
    "\n",
    "total_monetary_base_df = download_total_monetary_base(total_monetary_base_url)\n",
    "print(total_monetary_base_df)\n",
    "\n",
    "m2_national_df = download_M2_national(m2_national_currency_url)\n",
    "print(m2_national_df)\n",
    "\n",
    "m2_foreign_df = download_M2_foreign(m2_foreign_currency_url)\n",
    "print(m2_foreign_df)\n"
   ]
  },
  {
   "cell_type": "code",
   "execution_count": null,
   "metadata": {
    "colab": {
     "base_uri": "https://localhost:8080/",
     "height": 281
    },
    "id": "r4ggNL4DCRiM",
    "outputId": "b9588506-d21c-4dbd-c182-2e59915b64b5"
   },
   "outputs": [],
   "source": [
    "last_many_months = -12 * 17 + 1\n",
    "\n",
    "mobile_avg_m2national = np.array(trends.get_accumulated_values(\n",
    "    trends.get_yearonyear_variation(list(m2_national_df[M2_NATIONAL_CURRENCY]),inter_values_size=12)[last_many_months:]\n",
    "    , lot_size=12)[last_many_months+12:])/12\n",
    "\n",
    "plt.plot(m2_national_df['date'][-len(mobile_avg_m2national):],\n",
    "         mobile_avg_m2national,\n",
    "         label=\"Crecimiento M2\", color=\"r\")\n",
    "plt.ylim(0,0.20)\n",
    "plt.ylabel(\"Media móvil 12 meses\")\n",
    "plt.legend()\n",
    "\n",
    "\n",
    "\n",
    "mobile_avg_totalmoneybase = np.array(trends.get_accumulated_values(\n",
    "    trends.get_yearonyear_variation(list(total_monetary_base_df[TOTAL_MONETARY_BASE]),\n",
    "                             inter_values_size=12)[last_many_months:]\n",
    "    , lot_size=12)[last_many_months+12:])/12\n",
    "\n",
    "plt.plot(total_monetary_base_df['date'][-len(mobile_avg_totalmoneybase):],\n",
    "         mobile_avg_totalmoneybase,\n",
    "         label=\"Crecimiento base monetaria\", color=\"b\")\n",
    "plt.ylim(0,0.225)\n",
    "plt.ylabel(\"Media móvil 12 meses\")\n",
    "plt.legend()\n",
    "plt.title(\"Agregados monetarios quetzal\")\n",
    "plt.show()\n",
    "\n",
    "\n",
    "quetzal_monetary_aggregates_data = {\n",
    "    \"Mes\": m2_national_df['month'].astype(str)[-len(mobile_avg_m2national):],\n",
    "    \"Fecha\": m2_national_df['date'][-len(mobile_avg_m2national):],\n",
    "    \"Crecimiento M2\": mobile_avg_m2national,\n",
    "    \"Crecimiento base monetaria\": mobile_avg_totalmoneybase\n",
    "}"
   ]
  },
  {
   "cell_type": "code",
   "execution_count": null,
   "metadata": {
    "id": "rwpVIb41CmI9"
   },
   "outputs": [],
   "source": [
    "quetzal_monetary_aggregates_csv = \"Agregados-Monetarios-Quetzal-Media-Movil-12-Meses.csv\"\n",
    "quetzal_monetary_aggregates_df = pd.DataFrame(quetzal_monetary_aggregates_data)\n",
    "quetzal_monetary_aggregates_df.iloc[:,2:] *= 100\n",
    "quetzal_monetary_aggregates_df.to_csv(quetzal_monetary_aggregates_csv, index=False)"
   ]
  },
  {
   "cell_type": "code",
   "execution_count": null,
   "metadata": {
    "colab": {
     "base_uri": "https://localhost:8080/"
    },
    "id": "hzZiYaRqFymo",
    "outputId": "1ef8411c-80f6-4966-c727-b8cef1d89b12"
   },
   "outputs": [],
   "source": [
    "bucket_path = 'ufm-market-trends/guatemala/agregados-monetarios/agregados-monetarios-crecimiento'\n",
    "csv_file = quetzal_monetary_aggregates_csv\n",
    "\n",
    "!gsutil -h \"Cache-Control:public, max-age=1\" cp {csv_file} gs://{bucket_path}\n",
    "!gsutil cp gs://{bucket_path}/{csv_file} gs://{bucket_path}/{'archivo'}/{today+'-'+csv_file}  \n",
    "!gsutil cat gs://{bucket_path}/{csv_file}"
   ]
  },
  {
   "cell_type": "markdown",
   "metadata": {
    "id": "OkeT7HQYK8bg"
   },
   "source": [
    "## Dolarización economía"
   ]
  },
  {
   "cell_type": "code",
   "execution_count": null,
   "metadata": {
    "colab": {
     "base_uri": "https://localhost:8080/",
     "height": 281
    },
    "id": "-beVI8b9HROi",
    "outputId": "9fc83f5c-7612-4f61-afcf-a45d03ce1bdd"
   },
   "outputs": [],
   "source": [
    "last_many_months = -12 * 19\n",
    "\n",
    "DOLARIZATION_ECONOMY = \"Dolarización economía\"\n",
    "\n",
    "dolarization_economy_data = {\n",
    "    'labels': m2_national_df['month'].astype(str)[last_many_months:],\n",
    "    'dates': m2_national_df['date'][last_many_months:],\n",
    "    DOLARIZATION_ECONOMY: list(m2_foreign_df[M2_FOREIGN_CURRENCY][last_many_months:] \n",
    "          / \n",
    "          m2_national_df[M2_NATIONAL_CURRENCY][last_many_months:])\n",
    "}\n",
    "\n",
    "plt.plot(dolarization_economy_data['dates'],\n",
    "         dolarization_economy_data[DOLARIZATION_ECONOMY])\n",
    "plt.title(\"Dolarización economía\")\n",
    "plt.ylabel(\"M2 en dólares / M2 en quetzales\")\n",
    "plt.show()"
   ]
  },
  {
   "cell_type": "code",
   "execution_count": null,
   "metadata": {
    "id": "XbIStMUALBNG"
   },
   "outputs": [],
   "source": [
    "dolarization_economy_csv = \"Dolarizacion-Economia.csv\"\n",
    "dolarization_economy_df = pd.DataFrame(dolarization_economy_data)\n",
    "dolarization_economy_df.iloc[:,2:] *= 100\n",
    "dolarization_economy_df.to_csv(dolarization_economy_csv, index=False)"
   ]
  },
  {
   "cell_type": "code",
   "execution_count": null,
   "metadata": {
    "colab": {
     "base_uri": "https://localhost:8080/"
    },
    "id": "X4uuRMcQLepT",
    "outputId": "7fc9b740-8c21-47cb-e5b4-9b54a3460283"
   },
   "outputs": [],
   "source": [
    "bucket_path = 'ufm-market-trends/guatemala/agregados-monetarios/dolarizacion-economia'\n",
    "csv_file = dolarization_economy_csv\n",
    "\n",
    "!gsutil -h \"Cache-Control:public, max-age=1\" cp {csv_file} gs://{bucket_path}\n",
    "!gsutil cp gs://{bucket_path}/{csv_file} gs://{bucket_path}/{'archivo'}/{today+'-'+csv_file}  \n",
    "!gsutil cat gs://{bucket_path}/{csv_file}"
   ]
  },
  {
   "cell_type": "code",
   "execution_count": null,
   "metadata": {
    "id": "Pze_Ud8DLyqk"
   },
   "outputs": [],
   "source": []
  },
  {
   "cell_type": "code",
   "execution_count": null,
   "metadata": {},
   "outputs": [],
   "source": []
  },
  {
   "cell_type": "code",
   "execution_count": null,
   "metadata": {},
   "outputs": [],
   "source": []
  },
  {
   "cell_type": "code",
   "execution_count": null,
   "metadata": {},
   "outputs": [],
   "source": []
  },
  {
   "cell_type": "code",
   "execution_count": null,
   "metadata": {},
   "outputs": [],
   "source": []
  }
 ],
 "metadata": {
  "colab": {
   "authorship_tag": "ABX9TyPRBMyFiEzvFZ4nHx5+meMC",
   "include_colab_link": true,
   "provenance": []
  },
  "kernelspec": {
   "display_name": "PySpark (Local)",
   "language": "python",
   "name": "local-pyspark"
  },
  "language_info": {
   "codemirror_mode": {
    "name": "ipython",
    "version": 3
   },
   "file_extension": ".py",
   "mimetype": "text/x-python",
   "name": "python",
   "nbconvert_exporter": "python",
   "pygments_lexer": "ipython3",
   "version": "3.7.12"
  }
 },
 "nbformat": 4,
 "nbformat_minor": 4
}
