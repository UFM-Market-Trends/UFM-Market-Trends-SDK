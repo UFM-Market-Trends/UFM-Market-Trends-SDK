{
 "cells": [
  {
   "cell_type": "markdown",
   "metadata": {
    "colab_type": "text",
    "id": "view-in-github"
   },
   "source": [
    "<a href=\"https://colab.research.google.com/github/UFM-Market-Trends/UFM-Market-Trends-SDK/blob/main/examples/3_Inflaci%C3%B3n.ipynb\" target=\"_parent\"><img src=\"https://colab.research.google.com/assets/colab-badge.svg\" alt=\"Open In Colab\"/></a>"
   ]
  },
  {
   "cell_type": "code",
   "execution_count": 1,
   "metadata": {
    "colab": {
     "base_uri": "https://localhost:8080/"
    },
    "id": "4ZxpnEH4YVt5",
    "outputId": "f09b16d0-eb09-42ce-e0d0-a975938bc45d"
   },
   "outputs": [
    {
     "name": "stdout",
     "output_type": "stream",
     "text": [
      "Collecting pyxlsb\n",
      "  Using cached pyxlsb-1.0.10-py2.py3-none-any.whl (23 kB)\n",
      "Installing collected packages: pyxlsb\n",
      "Successfully installed pyxlsb-1.0.10\n",
      "Collecting fpdf\n",
      "  Using cached fpdf-1.7.2-py2.py3-none-any.whl\n",
      "Installing collected packages: fpdf\n",
      "Successfully installed fpdf-1.7.2\n",
      "Collecting git+https://github.com/UFM-Market-Trends/UFM-Market-Trends-SDK.git\n",
      "  Cloning https://github.com/UFM-Market-Trends/UFM-Market-Trends-SDK.git to /tmp/pip-req-build-oe2rhy3a\n",
      "  Running command git clone --filter=blob:none --quiet https://github.com/UFM-Market-Trends/UFM-Market-Trends-SDK.git /tmp/pip-req-build-oe2rhy3a\n",
      "  Resolved https://github.com/UFM-Market-Trends/UFM-Market-Trends-SDK.git to commit 85829d97a76f98bf4f6b589d15b761e78846635e\n",
      "  Preparing metadata (setup.py) ... \u001b[?25ldone\n",
      "\u001b[?25hRequirement already satisfied: requests in /opt/conda/lib/python3.7/site-packages (from ufmtrends-sdk==0.1.7) (2.28.1)\n",
      "Requirement already satisfied: charset-normalizer<3,>=2 in /opt/conda/lib/python3.7/site-packages (from requests->ufmtrends-sdk==0.1.7) (2.1.1)\n",
      "Requirement already satisfied: certifi>=2017.4.17 in /opt/conda/lib/python3.7/site-packages (from requests->ufmtrends-sdk==0.1.7) (2022.9.24)\n",
      "Requirement already satisfied: urllib3<1.27,>=1.21.1 in /opt/conda/lib/python3.7/site-packages (from requests->ufmtrends-sdk==0.1.7) (1.26.11)\n",
      "Requirement already satisfied: idna<4,>=2.5 in /opt/conda/lib/python3.7/site-packages (from requests->ufmtrends-sdk==0.1.7) (3.4)\n",
      "Building wheels for collected packages: ufmtrends-sdk\n",
      "  Building wheel for ufmtrends-sdk (setup.py) ... \u001b[?25ldone\n",
      "\u001b[?25h  Created wheel for ufmtrends-sdk: filename=ufmtrends_sdk-0.1.7-py3-none-any.whl size=13195 sha256=8b7a8d28b1152bee74a9df86992b7d1e7d24b04585986f69e5d6f4e3982beb65\n",
      "  Stored in directory: /tmp/pip-ephem-wheel-cache-60bpfb9x/wheels/d8/63/72/fd94fcb7285b31cd0125721e8d1340b8842b4efc3b6d212027\n",
      "Successfully built ufmtrends-sdk\n",
      "Installing collected packages: ufmtrends-sdk\n",
      "Successfully installed ufmtrends-sdk-0.1.7\n",
      "Collecting xlrd\n",
      "  Using cached xlrd-2.0.1-py2.py3-none-any.whl (96 kB)\n",
      "Installing collected packages: xlrd\n",
      "Successfully installed xlrd-2.0.1\n",
      "Collecting openpyxl\n",
      "  Using cached openpyxl-3.1.2-py2.py3-none-any.whl (249 kB)\n",
      "Collecting et-xmlfile\n",
      "  Using cached et_xmlfile-1.1.0-py3-none-any.whl (4.7 kB)\n",
      "Installing collected packages: et-xmlfile, openpyxl\n",
      "Successfully installed et-xmlfile-1.1.0 openpyxl-3.1.2\n"
     ]
    }
   ],
   "source": [
    "import numpy as np\n",
    "import matplotlib.pyplot as plt\n",
    "import pandas as pd\n",
    "!pip install pyxlsb\n",
    "!pip install fpdf\n",
    "import datetime\n",
    "!pip install git+https://github.com/UFM-Market-Trends/UFM-Market-Trends-SDK.git\n",
    "import ufmtrends_sdk as trends\n",
    "today = datetime.date.today().strftime(\"%Y-%m-%d\")\n",
    "!pip install --upgrade xlrd\n",
    "!pip install openpyxl"
   ]
  },
  {
   "cell_type": "code",
   "execution_count": 2,
   "metadata": {
    "colab": {
     "base_uri": "https://localhost:8080/"
    },
    "id": "N9Lhi8sLaId2",
    "outputId": "3e01585e-5efe-48cd-f452-9b1d6e712ea3"
   },
   "outputs": [],
   "source": [
    "# # https://colab.research.google.com/notebooks/snippets/gcs.ipynb\n",
    "# from google.colab import auth\n",
    "# auth.authenticate_user()\n",
    "\n",
    "# project_id = 'ufm-market-trends'\n",
    "# !gcloud config set project {project_id}"
   ]
  },
  {
   "cell_type": "code",
   "execution_count": 3,
   "metadata": {
    "id": "nbIxzKJQYd4j"
   },
   "outputs": [],
   "source": [
    "LOWER_BOUND_INFLATION_TARGET = 0.03\n",
    "UPPER_BOUND_INFLATION_TARGET = 0.05"
   ]
  },
  {
   "cell_type": "markdown",
   "metadata": {
    "id": "MvMue_1YYjmp"
   },
   "source": [
    "## Inflación subyacente\n",
    "* https://www.banguat.gob.gt/es/page/inflacion-subyacente-interanual\n",
    "* Fuente: Instituto Nacional de Estadística (INE) y  Banco de Guatemala.\t"
   ]
  },
  {
   "cell_type": "code",
   "execution_count": 4,
   "metadata": {
    "colab": {
     "base_uri": "https://localhost:8080/",
     "height": 419
    },
    "id": "dd01ysIxYmMl",
    "outputId": "a97601ea-498a-420b-a98b-ab0008c877de"
   },
   "outputs": [
    {
     "data": {
      "text/html": [
       "<div>\n",
       "<style scoped>\n",
       "    .dataframe tbody tr th:only-of-type {\n",
       "        vertical-align: middle;\n",
       "    }\n",
       "\n",
       "    .dataframe tbody tr th {\n",
       "        vertical-align: top;\n",
       "    }\n",
       "\n",
       "    .dataframe thead th {\n",
       "        text-align: right;\n",
       "    }\n",
       "</style>\n",
       "<table border=\"1\" class=\"dataframe\">\n",
       "  <thead>\n",
       "    <tr style=\"text-align: right;\">\n",
       "      <th></th>\n",
       "      <th>date</th>\n",
       "      <th>month</th>\n",
       "      <th>Inflación subyacente</th>\n",
       "    </tr>\n",
       "  </thead>\n",
       "  <tbody>\n",
       "    <tr>\n",
       "      <th>0</th>\n",
       "      <td>2002-01-01</td>\n",
       "      <td>2002-01</td>\n",
       "      <td>7.373405</td>\n",
       "    </tr>\n",
       "    <tr>\n",
       "      <th>1</th>\n",
       "      <td>2002-02-01</td>\n",
       "      <td>2002-02</td>\n",
       "      <td>7.676759</td>\n",
       "    </tr>\n",
       "    <tr>\n",
       "      <th>2</th>\n",
       "      <td>2002-03-01</td>\n",
       "      <td>2002-03</td>\n",
       "      <td>7.693315</td>\n",
       "    </tr>\n",
       "    <tr>\n",
       "      <th>3</th>\n",
       "      <td>2002-04-01</td>\n",
       "      <td>2002-04</td>\n",
       "      <td>7.731781</td>\n",
       "    </tr>\n",
       "    <tr>\n",
       "      <th>4</th>\n",
       "      <td>2002-05-01</td>\n",
       "      <td>2002-05</td>\n",
       "      <td>7.522233</td>\n",
       "    </tr>\n",
       "    <tr>\n",
       "      <th>...</th>\n",
       "      <td>...</td>\n",
       "      <td>...</td>\n",
       "      <td>...</td>\n",
       "    </tr>\n",
       "    <tr>\n",
       "      <th>249</th>\n",
       "      <td>2022-10-01</td>\n",
       "      <td>2022-10</td>\n",
       "      <td>5.09</td>\n",
       "    </tr>\n",
       "    <tr>\n",
       "      <th>250</th>\n",
       "      <td>2022-11-01</td>\n",
       "      <td>2022-11</td>\n",
       "      <td>5.03</td>\n",
       "    </tr>\n",
       "    <tr>\n",
       "      <th>251</th>\n",
       "      <td>2022-12-01</td>\n",
       "      <td>2022-12</td>\n",
       "      <td>5.04</td>\n",
       "    </tr>\n",
       "    <tr>\n",
       "      <th>252</th>\n",
       "      <td>2023-01-01</td>\n",
       "      <td>2023-01</td>\n",
       "      <td>5.24</td>\n",
       "    </tr>\n",
       "    <tr>\n",
       "      <th>253</th>\n",
       "      <td>2023-02-01</td>\n",
       "      <td>2023-02</td>\n",
       "      <td>5.36</td>\n",
       "    </tr>\n",
       "  </tbody>\n",
       "</table>\n",
       "<p>254 rows × 3 columns</p>\n",
       "</div>"
      ],
      "text/plain": [
       "          date    month Inflación subyacente\n",
       "0   2002-01-01  2002-01             7.373405\n",
       "1   2002-02-01  2002-02             7.676759\n",
       "2   2002-03-01  2002-03             7.693315\n",
       "3   2002-04-01  2002-04             7.731781\n",
       "4   2002-05-01  2002-05             7.522233\n",
       "..         ...      ...                  ...\n",
       "249 2022-10-01  2022-10                 5.09\n",
       "250 2022-11-01  2022-11                 5.03\n",
       "251 2022-12-01  2022-12                 5.04\n",
       "252 2023-01-01  2023-01                 5.24\n",
       "253 2023-02-01  2023-02                 5.36\n",
       "\n",
       "[254 rows x 3 columns]"
      ]
     },
     "execution_count": 4,
     "metadata": {},
     "output_type": "execute_result"
    }
   ],
   "source": [
    "underlying_inflation_url = \"https://www.banguat.gob.gt/sites/default/files/banguat/imm/imm73.xlsx\"\n",
    "\n",
    "UNDERLYING_INFLATION = \"Inflación subyacente\"\n",
    "def download_underlying_inflation(url):\n",
    "\n",
    "  df = pd.read_excel(url,\n",
    "                     skiprows=6,\n",
    "                     skipfooter=4)\n",
    "  df = df.iloc[:,1:]\n",
    "\n",
    "  df = df.transpose().stack().reset_index()\n",
    "  month_rows = np.arange(0,12)\n",
    "  df = df.drop(month_rows).reset_index(drop=True)\n",
    "  df.columns = ['date', 'month', UNDERLYING_INFLATION] \n",
    "\n",
    "  start_year = 2002\n",
    "\n",
    "  start_date = datetime.datetime(year=start_year, \n",
    "                                 month=1,\n",
    "                                 day=1)\n",
    "\n",
    "\n",
    "  months_amount = len(df[\"month\"])\n",
    "  months = pd.period_range(start_date, periods=months_amount, freq='M')\n",
    "\n",
    "  df[\"date\"] = pd.PeriodIndex(months, freq='M').to_timestamp()\n",
    "  df[\"month\"] = months\n",
    "\n",
    "  return df\n",
    "\n",
    "\n",
    "\n",
    "underlying_inflation_df = download_underlying_inflation(underlying_inflation_url)\n",
    "\n",
    "underlying_inflation_df"
   ]
  },
  {
   "cell_type": "code",
   "execution_count": 5,
   "metadata": {
    "colab": {
     "base_uri": "https://localhost:8080/",
     "height": 281
    },
    "id": "aBPWkYr-YqPl",
    "outputId": "6d330045-21a7-48f6-ffdf-ad6d5083e440"
   },
   "outputs": [
    {
     "data": {
      "image/png": "[encoded data removed]",
      "text/plain": [
       "<Figure size 640x480 with 1 Axes>"
      ]
     },
     "metadata": {},
     "output_type": "display_data"
    }
   ],
   "source": [
    "last_many_months = -12 * 11 + 1\n",
    "\n",
    "UNDERLYING_INFLATION_GROWTH = 'Crecimiento inflación subyacente'\n",
    "\n",
    "inflation_data = {\n",
    "    'labels': underlying_inflation_df['month'][last_many_months:].astype(str),\n",
    "    'dates': underlying_inflation_df['date'][last_many_months:],\n",
    "    UNDERLYING_INFLATION_GROWTH: np.array(\n",
    "        underlying_inflation_df[UNDERLYING_INFLATION][last_many_months:]\n",
    "        ) / 100\n",
    "}\n",
    "\n",
    "plt.plot(inflation_data['dates'],\n",
    "         inflation_data[UNDERLYING_INFLATION_GROWTH])\n",
    "plt.title(\"Crecimiento precios consumo (inflación subyacente)\")\n",
    "plt.axhline(LOWER_BOUND_INFLATION_TARGET, color='r', \n",
    "            label='Bandas objetivo inflación')\n",
    "plt.axhline(UPPER_BOUND_INFLATION_TARGET, color='r')\n",
    "plt.legend()\n",
    "plt.ylim(0,0.08)\n",
    "plt.show()"
   ]
  },
  {
   "cell_type": "markdown",
   "metadata": {
    "id": "8aLvE9NEYEru"
   },
   "source": [
    "## Inflación total\n",
    "* https://www.banguat.gob.gt/page/inflacion-total\n",
    "* Fuente INE"
   ]
  },
  {
   "cell_type": "code",
   "execution_count": 6,
   "metadata": {
    "colab": {
     "base_uri": "https://localhost:8080/",
     "height": 419
    },
    "id": "gQAYWb1MYChj",
    "outputId": "6e672366-575a-486c-c9b8-e06f700d47d6"
   },
   "outputs": [
    {
     "data": {
      "text/html": [
       "<div>\n",
       "<style scoped>\n",
       "    .dataframe tbody tr th:only-of-type {\n",
       "        vertical-align: middle;\n",
       "    }\n",
       "\n",
       "    .dataframe tbody tr th {\n",
       "        vertical-align: top;\n",
       "    }\n",
       "\n",
       "    .dataframe thead th {\n",
       "        text-align: right;\n",
       "    }\n",
       "</style>\n",
       "<table border=\"1\" class=\"dataframe\">\n",
       "  <thead>\n",
       "    <tr style=\"text-align: right;\">\n",
       "      <th></th>\n",
       "      <th>date</th>\n",
       "      <th>month</th>\n",
       "      <th>Inflación total</th>\n",
       "    </tr>\n",
       "  </thead>\n",
       "  <tbody>\n",
       "    <tr>\n",
       "      <th>0</th>\n",
       "      <td>1996-01-01</td>\n",
       "      <td>1996-01</td>\n",
       "      <td>9.759805</td>\n",
       "    </tr>\n",
       "    <tr>\n",
       "      <th>1</th>\n",
       "      <td>1996-02-01</td>\n",
       "      <td>1996-02</td>\n",
       "      <td>10.829774</td>\n",
       "    </tr>\n",
       "    <tr>\n",
       "      <th>2</th>\n",
       "      <td>1996-03-01</td>\n",
       "      <td>1996-03</td>\n",
       "      <td>11.47541</td>\n",
       "    </tr>\n",
       "    <tr>\n",
       "      <th>3</th>\n",
       "      <td>1996-04-01</td>\n",
       "      <td>1996-04</td>\n",
       "      <td>11.946369</td>\n",
       "    </tr>\n",
       "    <tr>\n",
       "      <th>4</th>\n",
       "      <td>1996-05-01</td>\n",
       "      <td>1996-05</td>\n",
       "      <td>11.015439</td>\n",
       "    </tr>\n",
       "    <tr>\n",
       "      <th>...</th>\n",
       "      <td>...</td>\n",
       "      <td>...</td>\n",
       "      <td>...</td>\n",
       "    </tr>\n",
       "    <tr>\n",
       "      <th>321</th>\n",
       "      <td>2022-10-01</td>\n",
       "      <td>2022-10</td>\n",
       "      <td>9.7</td>\n",
       "    </tr>\n",
       "    <tr>\n",
       "      <th>322</th>\n",
       "      <td>2022-11-01</td>\n",
       "      <td>2022-11</td>\n",
       "      <td>9.17</td>\n",
       "    </tr>\n",
       "    <tr>\n",
       "      <th>323</th>\n",
       "      <td>2022-12-01</td>\n",
       "      <td>2022-12</td>\n",
       "      <td>9.24</td>\n",
       "    </tr>\n",
       "    <tr>\n",
       "      <th>324</th>\n",
       "      <td>2023-01-01</td>\n",
       "      <td>2023-01</td>\n",
       "      <td>9.69</td>\n",
       "    </tr>\n",
       "    <tr>\n",
       "      <th>325</th>\n",
       "      <td>2023-02-01</td>\n",
       "      <td>2023-02</td>\n",
       "      <td>9.92</td>\n",
       "    </tr>\n",
       "  </tbody>\n",
       "</table>\n",
       "<p>326 rows × 3 columns</p>\n",
       "</div>"
      ],
      "text/plain": [
       "          date    month Inflación total\n",
       "0   1996-01-01  1996-01        9.759805\n",
       "1   1996-02-01  1996-02       10.829774\n",
       "2   1996-03-01  1996-03        11.47541\n",
       "3   1996-04-01  1996-04       11.946369\n",
       "4   1996-05-01  1996-05       11.015439\n",
       "..         ...      ...             ...\n",
       "321 2022-10-01  2022-10             9.7\n",
       "322 2022-11-01  2022-11            9.17\n",
       "323 2022-12-01  2022-12            9.24\n",
       "324 2023-01-01  2023-01            9.69\n",
       "325 2023-02-01  2023-02            9.92\n",
       "\n",
       "[326 rows x 3 columns]"
      ]
     },
     "execution_count": 6,
     "metadata": {},
     "output_type": "execute_result"
    }
   ],
   "source": [
    "total_inflation_url = \"https://www.banguat.gob.gt/sites/default/files/banguat/imm/imm01.xls\"\n",
    "\n",
    "TOTAL_INFLATION = \"Inflación total\"\n",
    "def download_total_inflation(url):\n",
    "\n",
    "  df = pd.read_excel(url,\n",
    "                     skiprows=5,\n",
    "                     skipfooter=1)\n",
    "\n",
    "  df = df.transpose().stack().reset_index()\n",
    "  month_rows = np.arange(0,12)\n",
    "  df = df.drop(month_rows).reset_index(drop=True)\n",
    "  df.columns = ['date', 'month', TOTAL_INFLATION] \n",
    "\n",
    "  start_year = 1996\n",
    "\n",
    "  start_date = datetime.datetime(year=start_year, \n",
    "                                 month=1,\n",
    "                                 day=1)\n",
    "\n",
    "\n",
    "  months_amount = len(df[\"month\"])\n",
    "  months = pd.period_range(start_date, periods=months_amount, freq='M')\n",
    "\n",
    "  df[\"date\"] = pd.PeriodIndex(months, freq='M').to_timestamp()\n",
    "  df[\"month\"] = months\n",
    "\n",
    "  return df\n",
    "\n",
    "\n",
    "\n",
    "total_inflation_df = download_total_inflation(total_inflation_url)\n",
    "\n",
    "total_inflation_df"
   ]
  },
  {
   "cell_type": "code",
   "execution_count": 7,
   "metadata": {
    "colab": {
     "base_uri": "https://localhost:8080/",
     "height": 281
    },
    "id": "FoF_4hW1YOPD",
    "outputId": "924595ee-1e0b-45fb-af79-8950d77c1ae8"
   },
   "outputs": [
    {
     "data": {
      "image/png": "[encoded data removed]",
      "text/plain": [
       "<Figure size 640x480 with 1 Axes>"
      ]
     },
     "metadata": {},
     "output_type": "display_data"
    }
   ],
   "source": [
    "TOTAL_INFLATION_GROWTH = 'Crecimiento inflación total'\n",
    "inflation_data[TOTAL_INFLATION_GROWTH] = (np.array(\n",
    "        total_inflation_df[TOTAL_INFLATION][last_many_months:]) / 100\n",
    ")\n",
    "\n",
    "plt.plot(inflation_data['dates'],\n",
    "         inflation_data[TOTAL_INFLATION_GROWTH])\n",
    "plt.title(\"Crecimiento precios consumo\")\n",
    "plt.axhline(LOWER_BOUND_INFLATION_TARGET, color='r', \n",
    "            label='Bandas objetivo inflación')\n",
    "plt.axhline(UPPER_BOUND_INFLATION_TARGET, color='r')\n",
    "plt.legend()\n",
    "plt.ylim(0,0.10)\n",
    "plt.show()"
   ]
  },
  {
   "cell_type": "code",
   "execution_count": 8,
   "metadata": {
    "id": "CInOR-iDd2xs"
   },
   "outputs": [],
   "source": [
    "inflation_data_csv = \"Inflacion.csv\"\n",
    "inflation_data_df = pd.DataFrame(inflation_data)\n",
    "inflation_data_df.iloc[:,2:] *= 100\n",
    "inflation_data_df['Banda objetivo inflación superior'] = UPPER_BOUND_INFLATION_TARGET * 100\n",
    "inflation_data_df['Banda objetivo inflación inferior'] = LOWER_BOUND_INFLATION_TARGET * 100\n",
    "inflation_data_df.to_csv(inflation_data_csv, index=False)"
   ]
  },
  {
   "cell_type": "code",
   "execution_count": 9,
   "metadata": {
    "colab": {
     "base_uri": "https://localhost:8080/"
    },
    "id": "38JQZR-wd8h8",
    "outputId": "2134f691-f009-4add-e008-3895e37b5305"
   },
   "outputs": [
    {
     "name": "stdout",
     "output_type": "stream",
     "text": [
      "Copying file://Inflacion.csv [Content-Type=text/csv]...\n",
      "/ [1 files][  6.4 KiB/  6.4 KiB]                                                \n",
      "Operation completed over 1 objects/6.4 KiB.                                      \n",
      "Copying gs://ufm-market-trends/guatemala/inflacion/Inflacion.csv [Content-Type=text/csv]...\n",
      "/ [1 files][  6.4 KiB/  6.4 KiB]                                                \n",
      "Operation completed over 1 objects/6.4 KiB.                                      \n",
      "labels,dates,Crecimiento inflación subyacente,Crecimiento inflación total,Banda objetivo inflación superior,Banda objetivo inflación inferior\n",
      "2012-04,2012-04-01,4.11,4.27,5.0,3.0\n",
      "2012-05,2012-05-01,3.9800000000000004,3.9,5.0,3.0\n",
      "2012-06,2012-06-01,3.85,3.47,5.0,3.0\n",
      "2012-07,2012-07-01,3.56,2.86,5.0,3.0\n",
      "2012-08,2012-08-01,3.53,2.71,5.0,3.0\n",
      "2012-09,2012-09-01,3.66,3.2799999999999994,5.0,3.0\n",
      "2012-10,2012-10-01,3.74,3.35,5.0,3.0\n",
      "2012-11,2012-11-01,3.73,3.11,5.0,3.0\n",
      "2012-12,2012-12-01,3.73,3.45,5.0,3.0\n",
      "2013-01,2013-01-01,3.7626765235522726,3.8599999999999994,5.0,3.0\n",
      "2013-02,2013-02-01,3.8911975821684877,4.18,5.0,3.0\n",
      "2013-03,2013-03-01,3.8992765197782546,4.34,5.0,3.0\n",
      "2013-04,2013-04-01,3.803991380118063,4.13,5.0,3.0\n",
      "2013-05,2013-05-01,3.8346427235316014,4.27,5.0,3.0\n",
      "2013-06,2013-06-01,3.92211663871808,4.79,5.0,3.0\n",
      "2013-07,2013-07-01,3.8522231504687596,4.74,5.0,3.0\n",
      "2013-08,2013-08-01,3.6474726902425516,4.42,5.0,3.0\n",
      "2013-09,2013-09-01,3.518330409086687,4.21,5.0,3.0\n",
      "2013-10,2013-10-01,3.481304107570466,4.15,5.0,3.0\n",
      "2013-11,2013-11-01,3.5819250551065522,4.63,5.0,3.0\n",
      "2013-12,2013-12-01,3.5573484917942726,4.39,5.0,3.0\n",
      "2014-01,2014-01-01,3.443551333576906,4.14,5.0,3.0\n",
      "2014-02,2014-02-01,3.2272727272727195,3.5000000000000004,5.0,3.0\n",
      "2014-03,2014-03-01,3.1651293181407,3.25,5.0,3.0\n",
      "2014-04,2014-04-01,3.14107771459517,3.27,5.0,3.0\n",
      "2014-05,2014-05-01,3.0444964871194458,3.2199999999999998,5.0,3.0\n",
      "2014-06,2014-06-01,2.931420887494383,3.1300000000000003,5.0,3.0\n",
      "2014-07,2014-07-01,2.985341437254192,3.4099999999999997,5.0,3.0\n",
      "2014-08,2014-08-01,3.1439799928546104,3.7000000000000006,5.0,3.0\n",
      "2014-09,2014-09-01,3.2024977698483497,3.45,5.0,3.0\n",
      "2014-10,2014-10-01,3.2395870416518306,3.64,5.0,3.0\n",
      "2014-11,2014-11-01,3.147721227167935,3.38,5.0,3.0\n",
      "2014-12,2014-12-01,3.1872509960159334,2.95,5.0,3.0\n",
      "2015-01,2015-01-01,3.1611479028697715,2.32,5.0,3.0\n",
      "2015-02,2015-02-01,3.205636283575501,2.44,5.0,3.0\n",
      "2015-03,2015-03-01,3.120617110799458,2.43,5.0,3.0\n",
      "2015-04,2015-04-01,3.1504331845628992,2.58,5.0,3.0\n",
      "2015-05,2015-05-01,3.199300699300693,2.55,5.0,3.0\n",
      "2015-06,2015-06-01,3.24856296812402,2.39,5.0,3.0\n",
      "2015-07,2015-07-01,3.2980385349765697,2.32,5.0,3.0\n",
      "2015-08,2015-08-01,3.238656044336679,1.96,5.0,3.0\n",
      "2015-09,2015-09-01,3.1463393551732963,1.8799999999999997,5.0,3.0\n",
      "2015-10,2015-10-01,3.137931034482762,2.23,5.0,3.0\n",
      "2015-11,2015-11-01,3.1462219547837975,2.51,5.0,3.0\n",
      "2015-12,2015-12-01,3.1574431574431685,3.07,5.0,3.0\n",
      "2016-01,2016-01-01,3.149875888042459,4.38,5.0,3.0\n",
      "2016-02,2016-02-01,3.199931734789658,4.27,5.0,3.0\n",
      "2016-03,2016-03-01,3.2811968718122984,4.26,5.0,3.0\n",
      "2016-04,2016-04-01,3.232374650038181,4.09,5.0,3.0\n",
      "2016-05,2016-05-01,3.3118753176350992,4.36,5.0,3.0\n",
      "2016-06,2016-06-01,3.2307043441585677,4.43,5.0,3.0\n",
      "2016-07,2016-07-01,3.2095446143505484,4.62,5.0,3.0\n",
      "2016-08,2016-08-01,3.086730414360005,4.74,5.0,3.0\n",
      "2016-09,2016-09-01,3.0000838012234965,4.56,5.0,3.0\n",
      "2016-10,2016-10-01,3.042460715479777,4.76,5.0,3.0\n",
      "2016-11,2016-11-01,3.0919243270272574,4.67,5.0,3.0\n",
      "2016-12,2016-12-01,3.0940696997421497,4.23,5.0,3.0\n",
      "2017-01,2017-01-01,3.211351755041065,3.83,5.0,3.0\n",
      "2017-02,2017-02-01,3.1503224739540343,3.9599999999999995,5.0,3.0\n",
      "2017-03,2017-03-01,3.1275720164609027,4.0,5.0,3.0\n",
      "2017-04,2017-04-01,3.0736357659434645,4.09,5.0,3.0\n",
      "2017-05,2017-05-01,2.935147987209973,3.93,5.0,3.0\n",
      "2017-06,2017-06-01,2.9743422127798596,4.36,5.0,3.0\n",
      "2017-07,2017-07-01,2.889938130901996,5.22,5.0,3.0\n",
      "2017-08,2017-08-01,2.7664768104149715,4.72,5.0,3.0\n",
      "2017-09,2017-09-01,2.8557481083719978,4.36,5.0,3.0\n",
      "2017-10,2017-10-01,2.9120700843608063,4.2,5.0,3.0\n",
      "2017-11,2017-11-01,2.9183508488278136,4.69,5.0,3.0\n",
      "2017-12,2017-12-01,2.9205324727712707,5.68,5.0,3.0\n",
      "2018-01,2018-01-01,2.669239427560697,4.71,5.0,3.0\n",
      "2018-02,2018-02-01,2.6212424849699545,4.15,5.0,3.0\n",
      "2018-03,2018-03-01,2.6656025538706984,4.14,5.0,3.0\n",
      "2018-04,2018-04-01,2.6231860947217456,3.92,5.0,3.0\n",
      "2018-05,2018-05-01,2.6284348864993916,4.09,5.0,3.0\n",
      "2018-06,2018-06-01,2.6027614664339183,3.7900000000000005,5.0,3.0\n",
      "2018-07,2018-07-01,2.626790094153037,2.61,5.0,3.0\n",
      "2018-08,2018-08-01,2.7949326999208353,3.36,5.0,3.0\n",
      "2018-09,2018-09-01,2.8160101249802096,4.55,5.0,3.0\n",
      "2018-10,2018-10-01,2.86119650035468,4.34,5.0,3.0\n",
      "2018-11,2018-11-01,2.937711098892464,3.15,5.0,3.0\n",
      "2018-12,2018-12-01,2.9630790938308422,2.31,5.0,3.0\n",
      "2019-01,2019-01-01,2.944400939702433,4.1,5.0,3.0\n",
      "2019-02,2019-02-01,2.976097484768019,4.46,5.0,3.0\n",
      "2019-03,2019-03-01,2.8917910447761415,4.17,5.0,3.0\n",
      "2019-04,2019-04-01,2.9834511692953214,4.75,5.0,3.0\n",
      "2019-05,2019-05-01,2.995731470702381,4.54,5.0,3.0\n",
      "2019-06,2019-06-01,3.0549110595514293,4.8,5.0,3.0\n",
      "2019-07,2019-07-01,3.1454783748361597,4.37,5.0,3.0\n",
      "2019-08,2019-08-01,3.096356774243219,3.01,5.0,3.0\n",
      "2019-09,2019-09-01,2.9543006616402607,1.8000000000000003,5.0,3.0\n",
      "2019-10,2019-10-01,3.0114942528735753,2.17,5.0,3.0\n",
      "2019-11,2019-11-01,3.075162151850435,2.92,5.0,3.0\n",
      "2019-12,2019-12-01,3.121431290445372,3.4099999999999997,5.0,3.0\n",
      "2020-01,2020-01-01,2.5635174197474555,1.78,5.0,3.0\n",
      "2020-02,2020-02-01,2.412197527118238,1.24,5.0,3.0\n",
      "2020-03,2020-03-01,2.4478694469628266,1.77,5.0,3.0\n",
      "2020-04,2020-04-01,2.353828743870224,1.8799999999999997,5.0,3.0\n",
      "2020-05,2020-05-01,2.275638610504089,1.8000000000000003,5.0,3.0\n",
      "2020-06,2020-06-01,2.1313320825516087,2.39,5.0,3.0\n",
      "2020-07,2020-07-01,2.033036848792875,2.88,5.0,3.0\n",
      "2020-08,2020-08-01,2.0620097123646133,4.19,5.0,3.0\n",
      "2020-09,2020-09-01,2.0998356000597767,4.97,5.0,3.0\n",
      "2020-10,2020-10-01,2.2093282749386276,5.34,5.0,3.0\n",
      "2020-11,2020-11-01,2.2579212318625963,5.46,5.0,3.0\n",
      "2020-12,2020-12-01,2.3329641934293193,4.82,5.0,3.0\n",
      "2021-01,2021-01-01,2.69,5.24,5.0,3.0\n",
      "2021-02,2021-02-01,2.71,6.0,5.0,3.0\n",
      "2021-03,2021-03-01,2.79,5.84,5.0,3.0\n",
      "2021-04,2021-04-01,2.84,5.2,5.0,3.0\n",
      "2021-05,2021-05-01,2.89,5.17,5.0,3.0\n",
      "2021-06,2021-06-01,3.05,3.91,5.0,3.0\n",
      "2021-07,2021-07-01,3.09,3.82,5.0,3.0\n",
      "2021-08,2021-08-01,3.18,3.62,5.0,3.0\n",
      "2021-09,2021-09-01,3.3000000000000003,3.6699999999999995,5.0,3.0\n",
      "2021-10,2021-10-01,3.17,2.96,5.0,3.0\n",
      "2021-11,2021-11-01,3.11,2.89,5.0,3.0\n",
      "2021-12,2021-12-01,3.2,3.07,5.0,3.0\n",
      "2022-01,2022-01-01,3.29,2.87,5.0,3.0\n",
      "2022-02,2022-02-01,3.37,2.98,5.0,3.0\n",
      "2022-03,2022-03-01,3.47,4.17,5.0,3.0\n",
      "2022-04,2022-04-01,3.71,4.62,5.0,3.0\n",
      "2022-05,2022-05-01,4.12,5.82,5.0,3.0\n",
      "2022-06,2022-06-01,4.34,7.55,5.0,3.0\n",
      "2022-07,2022-07-01,4.6,8.36,5.0,3.0\n",
      "2022-08,2022-08-01,4.85,8.87,5.0,3.0\n",
      "2022-09,2022-09-01,4.92,9.03,5.0,3.0\n",
      "2022-10,2022-10-01,5.09,9.7,5.0,3.0\n",
      "2022-11,2022-11-01,5.03,9.17,5.0,3.0\n",
      "2022-12,2022-12-01,5.04,9.24,5.0,3.0\n",
      "2023-01,2023-01-01,5.24,9.69,5.0,3.0\n",
      "2023-02,2023-02-01,5.36,9.92,5.0,3.0\n"
     ]
    }
   ],
   "source": [
    "bucket_path = 'ufm-market-trends/guatemala/inflacion'\n",
    "csv_file = inflation_data_csv\n",
    "\n",
    "!gsutil -h \"Cache-Control:public, max-age=1\" cp {csv_file} gs://{bucket_path}\n",
    "!gsutil cp gs://{bucket_path}/{csv_file} gs://{bucket_path}/{'archivo'}/{today+'-'+csv_file}  \n",
    "!gsutil cat gs://{bucket_path}/{csv_file}"
   ]
  },
  {
   "cell_type": "code",
   "execution_count": null,
   "metadata": {
    "id": "CfnkFRMTeONO"
   },
   "outputs": [],
   "source": []
  },
  {
   "cell_type": "code",
   "execution_count": null,
   "metadata": {},
   "outputs": [],
   "source": []
  },
  {
   "cell_type": "code",
   "execution_count": null,
   "metadata": {},
   "outputs": [],
   "source": []
  },
  {
   "cell_type": "code",
   "execution_count": null,
   "metadata": {},
   "outputs": [],
   "source": []
  }
 ],
 "metadata": {
  "colab": {
   "authorship_tag": "ABX9TyPiqxwlT53AbswQSToslv3b",
   "include_colab_link": true,
   "provenance": []
  },
  "kernelspec": {
   "display_name": "Python (Local)",
   "language": "python",
   "name": "local-base"
  },
  "language_info": {
   "codemirror_mode": {
    "name": "ipython",
    "version": 3
   },
   "file_extension": ".py",
   "mimetype": "text/x-python",
   "name": "python",
   "nbconvert_exporter": "python",
   "pygments_lexer": "ipython3",
   "version": "3.7.12"
  }
 },
 "nbformat": 4,
 "nbformat_minor": 4
}
