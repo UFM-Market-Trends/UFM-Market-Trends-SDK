{
  "nbformat": 4,
  "nbformat_minor": 0,
  "metadata": {
    "colab": {
      "name": "UFM Market Trends SDK Example",
      "provenance": [],
      "collapsed_sections": [],
      "authorship_tag": "ABX9TyP3CBMu0C69DWlBtVhZ3VnA",
      "include_colab_link": true
    },
    "kernelspec": {
      "name": "python3",
      "display_name": "Python 3"
    },
    "language_info": {
      "name": "python"
    }
  },
  "cells": [
    {
      "cell_type": "markdown",
      "metadata": {
        "id": "view-in-github",
        "colab_type": "text"
      },
      "source": [
        "<a href=\"https://colab.research.google.com/github/UFM-Market-Trends/UFM-Market-Trends-SDK/blob/main/examples/UFM_Market_Trends_SDK_Example.ipynb\" target=\"_parent\"><img src=\"https://colab.research.google.com/assets/colab-badge.svg\" alt=\"Open In Colab\"/></a>"
      ]
    },
    {
      "cell_type": "code",
      "execution_count": 1,
      "metadata": {
        "colab": {
          "base_uri": "https://localhost:8080/"
        },
        "id": "rs0ifnkQvNaR",
        "outputId": "7bc425ac-bb2b-4559-b408-0f7eadd8c025"
      },
      "outputs": [
        {
          "output_type": "stream",
          "name": "stdout",
          "text": [
            "Collecting git+https://github.com/UFM-Market-Trends/UFM-Market-Trends-SDK.git\n",
            "  Cloning https://github.com/UFM-Market-Trends/UFM-Market-Trends-SDK.git to /tmp/pip-req-build-799dmxp6\n",
            "  Running command git clone -q https://github.com/UFM-Market-Trends/UFM-Market-Trends-SDK.git /tmp/pip-req-build-799dmxp6\n",
            "Requirement already satisfied: requests in /usr/local/lib/python3.7/dist-packages (from ufmtrends-sdk==0.0.1) (2.23.0)\n",
            "Requirement already satisfied: idna<3,>=2.5 in /usr/local/lib/python3.7/dist-packages (from requests->ufmtrends-sdk==0.0.1) (2.10)\n",
            "Requirement already satisfied: certifi>=2017.4.17 in /usr/local/lib/python3.7/dist-packages (from requests->ufmtrends-sdk==0.0.1) (2021.10.8)\n",
            "Requirement already satisfied: urllib3!=1.25.0,!=1.25.1,<1.26,>=1.21.1 in /usr/local/lib/python3.7/dist-packages (from requests->ufmtrends-sdk==0.0.1) (1.24.3)\n",
            "Requirement already satisfied: chardet<4,>=3.0.2 in /usr/local/lib/python3.7/dist-packages (from requests->ufmtrends-sdk==0.0.1) (3.0.4)\n",
            "Building wheels for collected packages: ufmtrends-sdk\n",
            "  Building wheel for ufmtrends-sdk (setup.py) ... \u001b[?25l\u001b[?25hdone\n",
            "  Created wheel for ufmtrends-sdk: filename=ufmtrends_sdk-0.0.1-py3-none-any.whl size=5502 sha256=28911202b3d821d071530736edbc7cc354935c8e20fe67f5bc357bf1d713db55\n",
            "  Stored in directory: /tmp/pip-ephem-wheel-cache-n4be210l/wheels/d8/63/72/fd94fcb7285b31cd0125721e8d1340b8842b4efc3b6d212027\n",
            "Successfully built ufmtrends-sdk\n",
            "Installing collected packages: ufmtrends-sdk\n",
            "Successfully installed ufmtrends-sdk-0.0.1\n"
          ]
        }
      ],
      "source": [
        "!pip install git+https://github.com/UFM-Market-Trends/UFM-Market-Trends-SDK.git"
      ]
    },
    {
      "cell_type": "code",
      "source": [
        "import ufmtrends_sdk"
      ],
      "metadata": {
        "id": "nC4UopATvRBq"
      },
      "execution_count": 5,
      "outputs": []
    },
    {
      "cell_type": "code",
      "source": [
        "# https://stackoverflow.com/questions/5103329/how-to-find-out-what-methods-properties-etc-a-python-module-possesses\n",
        "help(ufmtrends_sdk)"
      ],
      "metadata": {
        "colab": {
          "base_uri": "https://localhost:8080/"
        },
        "id": "AiDyI4ztvYIl",
        "outputId": "fd49623f-1798-4d05-fe75-c5b53278e3a4"
      },
      "execution_count": 6,
      "outputs": [
        {
          "output_type": "stream",
          "name": "stdout",
          "text": [
            "Help on package ufmtrends_sdk:\n",
            "\n",
            "NAME\n",
            "    ufmtrends_sdk\n",
            "\n",
            "PACKAGE CONTENTS\n",
            "    functions\n",
            "\n",
            "FILE\n",
            "    /usr/local/lib/python3.7/dist-packages/ufmtrends_sdk/__init__.py\n",
            "\n",
            "\n"
          ]
        }
      ]
    },
    {
      "cell_type": "code",
      "source": [
        "ufmtrends_sdk.functions.test()"
      ],
      "metadata": {
        "colab": {
          "base_uri": "https://localhost:8080/"
        },
        "id": "dpZJ4HCsvcmc",
        "outputId": "fc064e58-a338-4a89-83b3-76fb7194564c"
      },
      "execution_count": 7,
      "outputs": [
        {
          "output_type": "stream",
          "name": "stdout",
          "text": [
            "It works!\n"
          ]
        }
      ]
    }
  ]
}